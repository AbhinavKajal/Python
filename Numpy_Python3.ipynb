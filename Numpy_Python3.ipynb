{
 "cells": [
  {
   "cell_type": "markdown",
   "id": "436a1bcc",
   "metadata": {},
   "source": [
    "# Numpy: Package for Multi-Dimensional Array"
   ]
  },
  {
   "cell_type": "code",
   "execution_count": 22,
   "id": "6bf279af",
   "metadata": {},
   "outputs": [
    {
     "name": "stdout",
     "output_type": "stream",
     "text": [
      "[1 2 4]\n"
     ]
    },
    {
     "data": {
      "text/plain": [
       "numpy.ndarray"
      ]
     },
     "execution_count": 22,
     "metadata": {},
     "output_type": "execute_result"
    }
   ],
   "source": [
    "import numpy as np # alias name given to numpy as np \n",
    "sample_list = [1,2,4] # 1D Array\n",
    "sample_list0 = np.array(sample_list) # providing list after creating\n",
    "print(sample_list0)\n",
    "type(sample_list0)"
   ]
  },
  {
   "cell_type": "code",
   "execution_count": 15,
   "id": "66db28f0",
   "metadata": {},
   "outputs": [
    {
     "name": "stdout",
     "output_type": "stream",
     "text": [
      "[2 6 9]\n"
     ]
    }
   ],
   "source": [
    "sample_list1 = np.array([2,6,9]) # directly adding list w/o creating first\n",
    "print(sample_list1)"
   ]
  },
  {
   "cell_type": "code",
   "execution_count": 17,
   "id": "ec9ed814",
   "metadata": {
    "scrolled": true
   },
   "outputs": [
    {
     "name": "stdout",
     "output_type": "stream",
     "text": [
      "[1 2 4]\n"
     ]
    },
    {
     "data": {
      "text/plain": [
       "\"this way task is simplified as well as complicated coz you don't have to write alias name again and again but it became hard\\nto differentiate and understand for other user \""
      ]
     },
     "execution_count": 17,
     "metadata": {},
     "output_type": "execute_result"
    }
   ],
   "source": [
    "from numpy import * # importing numpy completely w/o alias name\n",
    "sample_list = [1,2,4]\n",
    "sample_list0 = np.array(sample_list) \n",
    "print(sample_list0)\n",
    "type(sample_list0) \n",
    "'''this way task is simplified as well as complicated coz you don't have to write alias name again and again but it became hard\n",
    "to differentiate and understand for other user '''"
   ]
  },
  {
   "cell_type": "code",
   "execution_count": 2,
   "id": "c7bbf8a2",
   "metadata": {},
   "outputs": [
    {
     "data": {
      "text/plain": [
       "array([[1, 2, 3],\n",
       "       [4, 5, 6],\n",
       "       [9, 8, 7]])"
      ]
     },
     "execution_count": 2,
     "metadata": {},
     "output_type": "execute_result"
    }
   ],
   "source": [
    "import numpy as np # 2-D Array\n",
    "sample_list_ = [[1,2,3],[4,5,6],[9,8,7]]\n",
    "arr = np.array(sample_list_)\n",
    "arr"
   ]
  },
  {
   "cell_type": "code",
   "execution_count": 24,
   "id": "0d32a1e7",
   "metadata": {},
   "outputs": [
    {
     "data": {
      "text/plain": [
       "array([ 2, 12, 22, 32, 42, 52])"
      ]
     },
     "execution_count": 24,
     "metadata": {},
     "output_type": "execute_result"
    }
   ],
   "source": [
    "np.arange(2,60,10) #start from no. 2, ends at 60 excluding 60 itself and with a stepsize of 10"
   ]
  },
  {
   "cell_type": "code",
   "execution_count": 25,
   "id": "41b7c68d",
   "metadata": {},
   "outputs": [
    {
     "data": {
      "text/plain": [
       "'in such case start and stepsize are considered as 0 and given value is taken as end value which is excluded'"
      ]
     },
     "execution_count": 25,
     "metadata": {},
     "output_type": "execute_result"
    }
   ],
   "source": [
    "np.arange(10) #in such case start and stepsize are considered as 0 and given value is taken as end value which is excluded"
   ]
  },
  {
   "cell_type": "code",
   "execution_count": 26,
   "id": "966d99a2",
   "metadata": {},
   "outputs": [
    {
     "data": {
      "text/plain": [
       "array([0., 0., 0., 0., 0., 0., 0., 0., 0., 0.])"
      ]
     },
     "execution_count": 26,
     "metadata": {},
     "output_type": "execute_result"
    }
   ],
   "source": [
    "np.zeros(10) # 0 are of FLoat DataType bydefault "
   ]
  },
  {
   "cell_type": "code",
   "execution_count": 28,
   "id": "db5a592c",
   "metadata": {},
   "outputs": [
    {
     "data": {
      "text/plain": [
       "array([[0., 0., 0.],\n",
       "       [0., 0., 0.]])"
      ]
     },
     "execution_count": 28,
     "metadata": {},
     "output_type": "execute_result"
    }
   ],
   "source": [
    "np.zeros((2,3)) # 2 rol and 3 col array of 0's"
   ]
  },
  {
   "cell_type": "code",
   "execution_count": 29,
   "id": "de553a46",
   "metadata": {},
   "outputs": [
    {
     "data": {
      "text/plain": [
       "array([0, 0, 0, 0, 0, 0])"
      ]
     },
     "execution_count": 29,
     "metadata": {},
     "output_type": "execute_result"
    }
   ],
   "source": [
    "np.zeros(6,int) # array of 6 0's as int DataType"
   ]
  },
  {
   "cell_type": "code",
   "execution_count": 30,
   "id": "4ce61c98",
   "metadata": {},
   "outputs": [
    {
     "data": {
      "text/plain": [
       "array([1., 1., 1.])"
      ]
     },
     "execution_count": 30,
     "metadata": {},
     "output_type": "execute_result"
    }
   ],
   "source": [
    "np.ones(3) # bydefault Float DataType array"
   ]
  },
  {
   "cell_type": "code",
   "execution_count": 32,
   "id": "19b41ae1",
   "metadata": {},
   "outputs": [
    {
     "data": {
      "text/plain": [
       "array([[1., 1., 1., 1.],\n",
       "       [1., 1., 1., 1.],\n",
       "       [1., 1., 1., 1.]])"
      ]
     },
     "execution_count": 32,
     "metadata": {},
     "output_type": "execute_result"
    }
   ],
   "source": [
    "np.ones((3,4))"
   ]
  },
  {
   "cell_type": "code",
   "execution_count": 38,
   "id": "21ed04f4",
   "metadata": {},
   "outputs": [
    {
     "data": {
      "text/plain": [
       "array([[1, 1, 1, 1],\n",
       "       [1, 1, 1, 1]])"
      ]
     },
     "execution_count": 38,
     "metadata": {},
     "output_type": "execute_result"
    }
   ],
   "source": [
    "np.ones((2,4),int) # int DataType "
   ]
  },
  {
   "cell_type": "code",
   "execution_count": 50,
   "id": "27907586",
   "metadata": {},
   "outputs": [
    {
     "data": {
      "text/plain": [
       "array([0. , 0.5, 1. , 1.5, 2. ])"
      ]
     },
     "execution_count": 50,
     "metadata": {},
     "output_type": "execute_result"
    }
   ],
   "source": [
    "np.linspace(0,2,5) # start from 0, end at 2 and have 5 values Linearly-Spaced b/w 0 and 2 inclusively"
   ]
  },
  {
   "cell_type": "code",
   "execution_count": 58,
   "id": "9d30b683",
   "metadata": {},
   "outputs": [
    {
     "data": {
      "text/plain": [
       "array([[1., 0., 0., 0., 0., 0., 0., 0., 0., 0.],\n",
       "       [0., 1., 0., 0., 0., 0., 0., 0., 0., 0.],\n",
       "       [0., 0., 1., 0., 0., 0., 0., 0., 0., 0.],\n",
       "       [0., 0., 0., 1., 0., 0., 0., 0., 0., 0.],\n",
       "       [0., 0., 0., 0., 1., 0., 0., 0., 0., 0.],\n",
       "       [0., 0., 0., 0., 0., 1., 0., 0., 0., 0.],\n",
       "       [0., 0., 0., 0., 0., 0., 1., 0., 0., 0.],\n",
       "       [0., 0., 0., 0., 0., 0., 0., 1., 0., 0.],\n",
       "       [0., 0., 0., 0., 0., 0., 0., 0., 1., 0.],\n",
       "       [0., 0., 0., 0., 0., 0., 0., 0., 0., 1.]])"
      ]
     },
     "execution_count": 58,
     "metadata": {},
     "output_type": "execute_result"
    }
   ],
   "source": [
    "np.eye(10) #identity matrix of 10*10"
   ]
  },
  {
   "cell_type": "code",
   "execution_count": 67,
   "id": "f500450c",
   "metadata": {},
   "outputs": [
    {
     "data": {
      "text/plain": [
       "array([[0.42566971, 0.54031097, 0.91113787, 0.21928674, 0.5264911 ],\n",
       "       [0.34961463, 0.30477517, 0.96372872, 0.61066974, 0.68436045],\n",
       "       [0.07926474, 0.62835854, 0.49955639, 0.68471925, 0.90192618]])"
      ]
     },
     "execution_count": 67,
     "metadata": {},
     "output_type": "execute_result"
    }
   ],
   "source": [
    "np.random.rand(3,5) # random float number between 0 and 1 excluding them, with 3 rows and 5 columns"
   ]
  },
  {
   "cell_type": "code",
   "execution_count": 70,
   "id": "4a457f55",
   "metadata": {},
   "outputs": [
    {
     "data": {
      "text/plain": [
       "array([[-0.07391115, -0.78643601, -0.88028175,  0.70965868, -1.68563012]])"
      ]
     },
     "execution_count": 70,
     "metadata": {},
     "output_type": "execute_result"
    }
   ],
   "source": [
    "np.random.randn(1,5) # random float both +ve and +ve with 1 rows and 5 columns"
   ]
  },
  {
   "cell_type": "code",
   "execution_count": 73,
   "id": "83443903",
   "metadata": {},
   "outputs": [
    {
     "data": {
      "text/plain": [
       "13"
      ]
     },
     "execution_count": 73,
     "metadata": {},
     "output_type": "execute_result"
    }
   ],
   "source": [
    "np.random.randint(2,100) # random integer between 2 and 100"
   ]
  },
  {
   "cell_type": "code",
   "execution_count": 74,
   "id": "2891b3e5",
   "metadata": {},
   "outputs": [
    {
     "data": {
      "text/plain": [
       "array([80, 81,  6, 81, 27, 20, 65, 38, 73, 66, 17, 50, 14, 57, 65, 80, 38,\n",
       "       16, 27, 68])"
      ]
     },
     "execution_count": 74,
     "metadata": {},
     "output_type": "execute_result"
    }
   ],
   "source": [
    "np.random.randint(2,100,20)# 20 random integer between 2 and 100"
   ]
  },
  {
   "cell_type": "code",
   "execution_count": 88,
   "id": "223a803b",
   "metadata": {},
   "outputs": [],
   "source": [
    "arr = np.arange(30) # guess the output\n",
    "arr"
   ]
  },
  {
   "cell_type": "code",
   "execution_count": 81,
   "id": "811e678c",
   "metadata": {},
   "outputs": [],
   "source": [
    "arr1 = np.random.randint(0,100,20) # guess the output\n",
    "arr1"
   ]
  },
  {
   "cell_type": "code",
   "execution_count": 94,
   "id": "e2247b47",
   "metadata": {},
   "outputs": [
    {
     "data": {
      "text/plain": [
       "array([[ 0,  1,  2],\n",
       "       [ 3,  4,  5],\n",
       "       [ 6,  7,  8],\n",
       "       [ 9, 10, 11],\n",
       "       [12, 13, 14],\n",
       "       [15, 16, 17],\n",
       "       [18, 19, 20],\n",
       "       [21, 22, 23],\n",
       "       [24, 25, 26],\n",
       "       [27, 28, 29]])"
      ]
     },
     "execution_count": 94,
     "metadata": {},
     "output_type": "execute_result"
    }
   ],
   "source": [
    "arr.reshape(10,3) # reshape the array into desired no. of rows and columns like here arr named array into 10 row and 3 col"
   ]
  },
  {
   "cell_type": "code",
   "execution_count": 89,
   "id": "67f029d5",
   "metadata": {},
   "outputs": [
    {
     "ename": "ValueError",
     "evalue": "cannot reshape array of size 30 into shape (2,3)",
     "output_type": "error",
     "traceback": [
      "\u001b[1;31m---------------------------------------------------------------------------\u001b[0m",
      "\u001b[1;31mValueError\u001b[0m                                Traceback (most recent call last)",
      "\u001b[1;32m~\\AppData\\Local\\Temp\\ipykernel_2492\\1233696228.py\u001b[0m in \u001b[0;36m<module>\u001b[1;34m\u001b[0m\n\u001b[1;32m----> 1\u001b[1;33m \u001b[0marr\u001b[0m\u001b[1;33m.\u001b[0m\u001b[0mreshape\u001b[0m\u001b[1;33m(\u001b[0m\u001b[1;36m2\u001b[0m\u001b[1;33m,\u001b[0m\u001b[1;36m3\u001b[0m\u001b[1;33m)\u001b[0m\u001b[1;33m\u001b[0m\u001b[1;33m\u001b[0m\u001b[0m\n\u001b[0m",
      "\u001b[1;31mValueError\u001b[0m: cannot reshape array of size 30 into shape (2,3)"
     ]
    }
   ],
   "source": [
    "arr.reshape(2,3) # can't reshape this time coz 2 rows and 3 cols can only have 6 elements but in arr named array there are 30 "
   ]
  },
  {
   "cell_type": "code",
   "execution_count": 95,
   "id": "3328611e",
   "metadata": {},
   "outputs": [
    {
     "data": {
      "text/plain": [
       "29"
      ]
     },
     "execution_count": 95,
     "metadata": {},
     "output_type": "execute_result"
    }
   ],
   "source": [
    "arr.max() # gives maximum value in array as output "
   ]
  },
  {
   "cell_type": "code",
   "execution_count": 97,
   "id": "d92ba75e",
   "metadata": {},
   "outputs": [
    {
     "data": {
      "text/plain": [
       "6"
      ]
     },
     "execution_count": 97,
     "metadata": {},
     "output_type": "execute_result"
    }
   ],
   "source": [
    "arr1.argmax() # gives index value of maximum value in array as output"
   ]
  },
  {
   "cell_type": "code",
   "execution_count": 101,
   "id": "e43c629b",
   "metadata": {},
   "outputs": [
    {
     "name": "stdout",
     "output_type": "stream",
     "text": [
      "[[24 22 22 30 21]\n",
      " [26 49 40 27 32]\n",
      " [30 26 23 31 48]\n",
      " [46 31 42 44 40]]\n"
     ]
    }
   ],
   "source": [
    "samp = np.random.randint(20,56,20)\n",
    "samp1 = samp.reshape(4,5)\n",
    "print(samp1)"
   ]
  },
  {
   "cell_type": "code",
   "execution_count": 102,
   "id": "0a397744",
   "metadata": {},
   "outputs": [
    {
     "data": {
      "text/plain": [
       "array([[24, 26, 30, 46],\n",
       "       [22, 49, 26, 31],\n",
       "       [22, 40, 23, 42],\n",
       "       [30, 27, 31, 44],\n",
       "       [21, 32, 48, 40]])"
      ]
     },
     "execution_count": 102,
     "metadata": {},
     "output_type": "execute_result"
    }
   ],
   "source": [
    "samp1.T # .T function is used to create Transpose"
   ]
  },
  {
   "cell_type": "code",
   "execution_count": 113,
   "id": "10911828",
   "metadata": {},
   "outputs": [
    {
     "data": {
      "text/plain": [
       "24"
      ]
     },
     "execution_count": 113,
     "metadata": {},
     "output_type": "execute_result"
    }
   ],
   "source": [
    "samp1[0][0] # 0 == 0th row (i.e., first row in indexing counting start from 0) & 0 == 1st column value from 0th row \n",
    "# retrieve value from array 1st number represent row and 2nd column no."
   ]
  },
  {
   "cell_type": "code",
   "execution_count": 115,
   "id": "0fc17b26",
   "metadata": {},
   "outputs": [
    {
     "data": {
      "text/plain": [
       "array([10, 11, 12, 13, 14, 15, 16, 17, 18, 19, 20])"
      ]
     },
     "execution_count": 115,
     "metadata": {},
     "output_type": "execute_result"
    }
   ],
   "source": [
    "sample_arr1 = np.arange(10,21)\n",
    "sample_arr1"
   ]
  },
  {
   "cell_type": "code",
   "execution_count": 116,
   "id": "d43e3fd3",
   "metadata": {},
   "outputs": [
    {
     "data": {
      "text/plain": [
       "10"
      ]
     },
     "execution_count": 116,
     "metadata": {},
     "output_type": "execute_result"
    }
   ],
   "source": [
    "sample_arr1[0] # retreiving element from array using index no."
   ]
  },
  {
   "cell_type": "code",
   "execution_count": 117,
   "id": "eed61920",
   "metadata": {},
   "outputs": [
    {
     "data": {
      "text/plain": [
       "array([12, 13, 14])"
      ]
     },
     "execution_count": 117,
     "metadata": {},
     "output_type": "execute_result"
    }
   ],
   "source": [
    "sample_arr1[2:5] # retreiving element b/w 2 to 5 exclusive of index no. 5"
   ]
  },
  {
   "cell_type": "code",
   "execution_count": 120,
   "id": "6f93d194",
   "metadata": {},
   "outputs": [
    {
     "data": {
      "text/plain": [
       "array([10, 11, 12, 13,  1,  1, 16, 17, 18, 19, 20])"
      ]
     },
     "execution_count": 120,
     "metadata": {},
     "output_type": "execute_result"
    }
   ],
   "source": [
    "sample_arr1[4:6]= 1\n",
    "sample_arr1"
   ]
  },
  {
   "cell_type": "code",
   "execution_count": 124,
   "id": "208b79ec",
   "metadata": {},
   "outputs": [
    {
     "data": {
      "text/plain": [
       "array([10, 11, 12, 13,  1,  1])"
      ]
     },
     "execution_count": 124,
     "metadata": {},
     "output_type": "execute_result"
    }
   ],
   "source": [
    "sample_arr1[:6]"
   ]
  },
  {
   "cell_type": "code",
   "execution_count": 125,
   "id": "4983c379",
   "metadata": {},
   "outputs": [
    {
     "data": {
      "text/plain": [
       "array([10, 11, 12, 13,  1,  1, 16, 17, 18, 19, 20])"
      ]
     },
     "execution_count": 125,
     "metadata": {},
     "output_type": "execute_result"
    }
   ],
   "source": [
    "sample_arr1[0:]"
   ]
  },
  {
   "cell_type": "code",
   "execution_count": 127,
   "id": "9299985f",
   "metadata": {},
   "outputs": [
    {
     "data": {
      "text/plain": [
       "array([1001, 1001, 1001, 1001, 1001, 1001, 1001, 1001, 1001, 1001, 1001])"
      ]
     },
     "execution_count": 127,
     "metadata": {},
     "output_type": "execute_result"
    }
   ],
   "source": [
    "sample_arr1[:] = 1001\n",
    "sample_arr1[:]"
   ]
  },
  {
   "cell_type": "markdown",
   "id": "3d6b231d",
   "metadata": {},
   "source": [
    "### Two Dimensional Array"
   ]
  },
  {
   "cell_type": "code",
   "execution_count": 128,
   "id": "87b9ac82",
   "metadata": {},
   "outputs": [
    {
     "data": {
      "text/plain": [
       "array([[1, 2, 3],\n",
       "       [4, 5, 6],\n",
       "       [9, 8, 7]])"
      ]
     },
     "execution_count": 128,
     "metadata": {},
     "output_type": "execute_result"
    }
   ],
   "source": [
    "import numpy as np\n",
    "samp_1 = np.array([[1,2,3],[4,5,6],[9,8,7]])\n",
    "samp_1"
   ]
  },
  {
   "cell_type": "code",
   "execution_count": 130,
   "id": "21459c44",
   "metadata": {},
   "outputs": [
    {
     "data": {
      "text/plain": [
       "6"
      ]
     },
     "execution_count": 130,
     "metadata": {},
     "output_type": "execute_result"
    }
   ],
   "source": [
    "samp_1[1,2] # 1 represent row with index no. 1 and 2 represent column with index no. 2 in given row (index no. start from 0)\n",
    "samp_1[1][2] # both are same"
   ]
  },
  {
   "cell_type": "code",
   "execution_count": 134,
   "id": "9de282b0",
   "metadata": {},
   "outputs": [
    {
     "data": {
      "text/plain": [
       "array([9, 8, 7])"
      ]
     },
     "execution_count": 134,
     "metadata": {},
     "output_type": "execute_result"
    }
   ],
   "source": [
    "samp_1[2,:] # complete row with index no. 2\n",
    "samp_1[2] #both are same"
   ]
  },
  {
   "cell_type": "code",
   "execution_count": 138,
   "id": "01b60a95",
   "metadata": {},
   "outputs": [
    {
     "data": {
      "text/plain": [
       "array([[2, 3],\n",
       "       [5, 6],\n",
       "       [8, 7]])"
      ]
     },
     "execution_count": 138,
     "metadata": {},
     "output_type": "execute_result"
    }
   ],
   "source": [
    "samp_1[:,(1,2)]  # value of column's with index no. 1 & 2 from all rows"
   ]
  },
  {
   "cell_type": "markdown",
   "id": "f3bdb4af",
   "metadata": {},
   "source": [
    "### Selection Techniques"
   ]
  },
  {
   "cell_type": "code",
   "execution_count": 143,
   "id": "e5b54ce5",
   "metadata": {},
   "outputs": [
    {
     "data": {
      "text/plain": [
       "array([ 1,  2,  3,  4,  5,  6,  7,  8,  9, 10, 11, 12, 13, 14, 15, 16, 17,\n",
       "       18, 19])"
      ]
     },
     "execution_count": 143,
     "metadata": {},
     "output_type": "execute_result"
    }
   ],
   "source": [
    "samp_arr = np.arange(1,20)\n",
    "samp_arr"
   ]
  },
  {
   "cell_type": "code",
   "execution_count": 144,
   "id": "d487eea0",
   "metadata": {},
   "outputs": [
    {
     "data": {
      "text/plain": [
       "array([ 2,  4,  6,  8, 10, 12, 14, 16, 18, 20, 22, 24, 26, 28, 30, 32, 34,\n",
       "       36, 38])"
      ]
     },
     "execution_count": 144,
     "metadata": {},
     "output_type": "execute_result"
    }
   ],
   "source": [
    "samp_arr + samp_arr"
   ]
  },
  {
   "cell_type": "code",
   "execution_count": 145,
   "id": "8d895243",
   "metadata": {},
   "outputs": [
    {
     "data": {
      "text/plain": [
       "array([2.71828183e+00, 7.38905610e+00, 2.00855369e+01, 5.45981500e+01,\n",
       "       1.48413159e+02, 4.03428793e+02, 1.09663316e+03, 2.98095799e+03,\n",
       "       8.10308393e+03, 2.20264658e+04, 5.98741417e+04, 1.62754791e+05,\n",
       "       4.42413392e+05, 1.20260428e+06, 3.26901737e+06, 8.88611052e+06,\n",
       "       2.41549528e+07, 6.56599691e+07, 1.78482301e+08])"
      ]
     },
     "execution_count": 145,
     "metadata": {},
     "output_type": "execute_result"
    }
   ],
   "source": [
    "np.exp(samp_arr) #exponential "
   ]
  },
  {
   "cell_type": "code",
   "execution_count": 146,
   "id": "95e235c2",
   "metadata": {},
   "outputs": [
    {
     "data": {
      "text/plain": [
       "array([1.        , 1.41421356, 1.73205081, 2.        , 2.23606798,\n",
       "       2.44948974, 2.64575131, 2.82842712, 3.        , 3.16227766,\n",
       "       3.31662479, 3.46410162, 3.60555128, 3.74165739, 3.87298335,\n",
       "       4.        , 4.12310563, 4.24264069, 4.35889894])"
      ]
     },
     "execution_count": 146,
     "metadata": {},
     "output_type": "execute_result"
    }
   ],
   "source": [
    "np.sqrt(samp_arr) #square root"
   ]
  },
  {
   "cell_type": "code",
   "execution_count": 147,
   "id": "9a1373d1",
   "metadata": {},
   "outputs": [
    {
     "data": {
      "text/plain": [
       "array([0.        , 0.69314718, 1.09861229, 1.38629436, 1.60943791,\n",
       "       1.79175947, 1.94591015, 2.07944154, 2.19722458, 2.30258509,\n",
       "       2.39789527, 2.48490665, 2.56494936, 2.63905733, 2.7080502 ,\n",
       "       2.77258872, 2.83321334, 2.89037176, 2.94443898])"
      ]
     },
     "execution_count": 147,
     "metadata": {},
     "output_type": "execute_result"
    }
   ],
   "source": [
    "np.log(samp_arr)"
   ]
  },
  {
   "cell_type": "code",
   "execution_count": 148,
   "id": "34378b0b",
   "metadata": {},
   "outputs": [
    {
     "data": {
      "text/plain": [
       "19"
      ]
     },
     "execution_count": 148,
     "metadata": {},
     "output_type": "execute_result"
    }
   ],
   "source": [
    "np.max(samp_arr)"
   ]
  },
  {
   "cell_type": "code",
   "execution_count": 149,
   "id": "9490b985",
   "metadata": {},
   "outputs": [
    {
     "data": {
      "text/plain": [
       "1"
      ]
     },
     "execution_count": 149,
     "metadata": {},
     "output_type": "execute_result"
    }
   ],
   "source": [
    "np.min(samp_arr)"
   ]
  },
  {
   "cell_type": "code",
   "execution_count": 150,
   "id": "888f2445",
   "metadata": {},
   "outputs": [
    {
     "data": {
      "text/plain": [
       "18"
      ]
     },
     "execution_count": 150,
     "metadata": {},
     "output_type": "execute_result"
    }
   ],
   "source": [
    "np.argmax(samp_arr)"
   ]
  },
  {
   "cell_type": "code",
   "execution_count": 151,
   "id": "ffe47466",
   "metadata": {},
   "outputs": [
    {
     "data": {
      "text/plain": [
       "0"
      ]
     },
     "execution_count": 151,
     "metadata": {},
     "output_type": "execute_result"
    }
   ],
   "source": [
    "np.argmin(samp_arr)"
   ]
  },
  {
   "cell_type": "code",
   "execution_count": 152,
   "id": "c1918598",
   "metadata": {},
   "outputs": [
    {
     "data": {
      "text/plain": [
       "array([  1,   4,   9,  16,  25,  36,  49,  64,  81, 100, 121, 144, 169,\n",
       "       196, 225, 256, 289, 324, 361], dtype=int32)"
      ]
     },
     "execution_count": 152,
     "metadata": {},
     "output_type": "execute_result"
    }
   ],
   "source": [
    "np.square(samp_arr)"
   ]
  },
  {
   "cell_type": "code",
   "execution_count": 153,
   "id": "94fc46d8",
   "metadata": {},
   "outputs": [
    {
     "data": {
      "text/plain": [
       "5.477225575051661"
      ]
     },
     "execution_count": 153,
     "metadata": {},
     "output_type": "execute_result"
    }
   ],
   "source": [
    "np.std(samp_arr) # std --> Standard Deviation"
   ]
  },
  {
   "cell_type": "code",
   "execution_count": 154,
   "id": "41703610",
   "metadata": {},
   "outputs": [
    {
     "data": {
      "text/plain": [
       "30.0"
      ]
     },
     "execution_count": 154,
     "metadata": {},
     "output_type": "execute_result"
    }
   ],
   "source": [
    "np.var(samp_arr) # var --> Variance"
   ]
  },
  {
   "cell_type": "code",
   "execution_count": 155,
   "id": "c0c0f1c9",
   "metadata": {},
   "outputs": [
    {
     "data": {
      "text/plain": [
       "10.0"
      ]
     },
     "execution_count": 155,
     "metadata": {},
     "output_type": "execute_result"
    }
   ],
   "source": [
    "np.mean(samp_arr)"
   ]
  },
  {
   "cell_type": "code",
   "execution_count": 161,
   "id": "5bd56521",
   "metadata": {},
   "outputs": [
    {
     "data": {
      "text/plain": [
       "array([[ 2.87452167, -1.40145824,  0.33463952, -0.6380335 ],\n",
       "       [ 0.73715675, -0.86860971,  0.04660995, -0.98161488],\n",
       "       [ 0.09467053,  0.4345596 , -0.44028783,  0.99730322]])"
      ]
     },
     "execution_count": 161,
     "metadata": {},
     "output_type": "execute_result"
    }
   ],
   "source": [
    "arr0 = np.random.randn(3,4)\n",
    "arr"
   ]
  },
  {
   "cell_type": "code",
   "execution_count": 165,
   "id": "33cbceff",
   "metadata": {},
   "outputs": [
    {
     "data": {
      "text/plain": [
       "array([[-0.49, -0.06, -1.13,  0.24],\n",
       "       [ 0.68,  0.22, -1.24, -0.74],\n",
       "       [-1.31, -1.17,  0.93,  1.04]])"
      ]
     },
     "execution_count": 165,
     "metadata": {},
     "output_type": "execute_result"
    }
   ],
   "source": [
    "np.round(arr0,decimals=2) # rounding of to two digits"
   ]
  },
  {
   "cell_type": "code",
   "execution_count": 166,
   "id": "0825c2d4",
   "metadata": {},
   "outputs": [
    {
     "data": {
      "text/plain": [
       "array(['cricket', 'football', 'run'], dtype='<U8')"
      ]
     },
     "execution_count": 166,
     "metadata": {},
     "output_type": "execute_result"
    }
   ],
   "source": [
    "sport = [\"cricket\",\"football\",\"run\",\"cricket\"]\n",
    "np.unique(sport) # removes any duplicate present "
   ]
  },
  {
   "cell_type": "code",
   "execution_count": null,
   "id": "e3930957",
   "metadata": {},
   "outputs": [],
   "source": []
  }
 ],
 "metadata": {
  "kernelspec": {
   "display_name": "Python 3 (ipykernel)",
   "language": "python",
   "name": "python3"
  },
  "language_info": {
   "codemirror_mode": {
    "name": "ipython",
    "version": 3
   },
   "file_extension": ".py",
   "mimetype": "text/x-python",
   "name": "python",
   "nbconvert_exporter": "python",
   "pygments_lexer": "ipython3",
   "version": "3.9.13"
  }
 },
 "nbformat": 4,
 "nbformat_minor": 5
}

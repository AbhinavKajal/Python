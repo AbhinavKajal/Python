{
 "cells": [
  {
   "cell_type": "markdown",
   "id": "436a1bcc",
   "metadata": {},
   "source": [
    "# Numpy: Package for Multi-Dimensional Array"
   ]
  },
  {
   "cell_type": "code",
   "execution_count": 1,
   "id": "6bf279af",
   "metadata": {},
   "outputs": [
    {
     "name": "stdout",
     "output_type": "stream",
     "text": [
      "[1 2 4]\n"
     ]
    },
    {
     "data": {
      "text/plain": [
       "numpy.ndarray"
      ]
     },
     "execution_count": 1,
     "metadata": {},
     "output_type": "execute_result"
    }
   ],
   "source": [
    "import numpy as np # alias name given to numpy as np \n",
    "sample_list = [1,2,4] # 1D Array\n",
    "sample_list0 = np.array(sample_list) # providing list after creating\n",
    "print(sample_list0)\n",
    "type(sample_list0)"
   ]
  },
  {
   "cell_type": "code",
   "execution_count": 2,
   "id": "66db28f0",
   "metadata": {},
   "outputs": [
    {
     "name": "stdout",
     "output_type": "stream",
     "text": [
      "[2 6 9]\n"
     ]
    }
   ],
   "source": [
    "sample_list1 = np.array([2,6,9]) # directly adding list w/o creating first\n",
    "print(sample_list1)"
   ]
  },
  {
   "cell_type": "code",
   "execution_count": 3,
   "id": "ec9ed814",
   "metadata": {
    "scrolled": true
   },
   "outputs": [
    {
     "name": "stdout",
     "output_type": "stream",
     "text": [
      "[1 2 4]\n"
     ]
    },
    {
     "data": {
      "text/plain": [
       "\"this way task is simplified as well as complicated coz you don't have to write alias name again and again but it became hard\\nto differentiate and understand for other user \""
      ]
     },
     "execution_count": 3,
     "metadata": {},
     "output_type": "execute_result"
    }
   ],
   "source": [
    "from numpy import * # importing numpy completely w/o alias name\n",
    "sample_list = [1,2,4]\n",
    "sample_list0 = np.array(sample_list) \n",
    "print(sample_list0)\n",
    "type(sample_list0) \n",
    "'''this way task is simplified as well as complicated coz you don't have to write alias name again and again but it became hard\n",
    "to differentiate and understand for other user '''"
   ]
  },
  {
   "cell_type": "code",
   "execution_count": 4,
   "id": "c7bbf8a2",
   "metadata": {},
   "outputs": [
    {
     "data": {
      "text/plain": [
       "array([[1, 2, 3],\n",
       "       [4, 5, 6],\n",
       "       [9, 8, 7]])"
      ]
     },
     "execution_count": 4,
     "metadata": {},
     "output_type": "execute_result"
    }
   ],
   "source": [
    "import numpy as np # 2-D Array\n",
    "sample_list_ = [[1,2,3],[4,5,6],[9,8,7]]\n",
    "arr = np.array(sample_list_)\n",
    "arr"
   ]
  },
  {
   "cell_type": "code",
   "execution_count": 5,
   "id": "0d32a1e7",
   "metadata": {},
   "outputs": [
    {
     "data": {
      "text/plain": [
       "array([ 2, 12, 22, 32, 42, 52])"
      ]
     },
     "execution_count": 5,
     "metadata": {},
     "output_type": "execute_result"
    }
   ],
   "source": [
    "np.arange(2,60,10) #start from no. 2, ends at 60 excluding 60 itself and with a stepsize of 10"
   ]
  },
  {
   "cell_type": "code",
   "execution_count": 6,
   "id": "41b7c68d",
   "metadata": {},
   "outputs": [
    {
     "data": {
      "text/plain": [
       "array([0, 1, 2, 3, 4, 5, 6, 7, 8, 9])"
      ]
     },
     "execution_count": 6,
     "metadata": {},
     "output_type": "execute_result"
    }
   ],
   "source": [
    "np.arange(10) #in such case start and stepsize are considered as 0 and given value is taken as end value which is excluded"
   ]
  },
  {
   "cell_type": "code",
   "execution_count": 7,
   "id": "966d99a2",
   "metadata": {},
   "outputs": [
    {
     "data": {
      "text/plain": [
       "array([0., 0., 0., 0., 0., 0., 0., 0., 0., 0.])"
      ]
     },
     "execution_count": 7,
     "metadata": {},
     "output_type": "execute_result"
    }
   ],
   "source": [
    "np.zeros(10) # 0 are of FLoat DataType bydefault "
   ]
  },
  {
   "cell_type": "code",
   "execution_count": 8,
   "id": "db5a592c",
   "metadata": {},
   "outputs": [
    {
     "data": {
      "text/plain": [
       "array([[0., 0., 0.],\n",
       "       [0., 0., 0.]])"
      ]
     },
     "execution_count": 8,
     "metadata": {},
     "output_type": "execute_result"
    }
   ],
   "source": [
    "np.zeros((2,3)) # 2 rol and 3 col array of 0's"
   ]
  },
  {
   "cell_type": "code",
   "execution_count": 9,
   "id": "de553a46",
   "metadata": {},
   "outputs": [
    {
     "data": {
      "text/plain": [
       "array([0, 0, 0, 0, 0, 0])"
      ]
     },
     "execution_count": 9,
     "metadata": {},
     "output_type": "execute_result"
    }
   ],
   "source": [
    "np.zeros(6,int) # array of 6 0's as int DataType"
   ]
  },
  {
   "cell_type": "code",
   "execution_count": 10,
   "id": "4ce61c98",
   "metadata": {},
   "outputs": [
    {
     "data": {
      "text/plain": [
       "array([1., 1., 1.])"
      ]
     },
     "execution_count": 10,
     "metadata": {},
     "output_type": "execute_result"
    }
   ],
   "source": [
    "np.ones(3) # bydefault Float DataType array"
   ]
  },
  {
   "cell_type": "code",
   "execution_count": 11,
   "id": "19b41ae1",
   "metadata": {},
   "outputs": [
    {
     "data": {
      "text/plain": [
       "array([[1., 1., 1., 1.],\n",
       "       [1., 1., 1., 1.],\n",
       "       [1., 1., 1., 1.]])"
      ]
     },
     "execution_count": 11,
     "metadata": {},
     "output_type": "execute_result"
    }
   ],
   "source": [
    "np.ones((3,4))"
   ]
  },
  {
   "cell_type": "code",
   "execution_count": 12,
   "id": "21ed04f4",
   "metadata": {},
   "outputs": [
    {
     "data": {
      "text/plain": [
       "array([[1, 1, 1, 1],\n",
       "       [1, 1, 1, 1]])"
      ]
     },
     "execution_count": 12,
     "metadata": {},
     "output_type": "execute_result"
    }
   ],
   "source": [
    "np.ones((2,4),int) # int DataType "
   ]
  },
  {
   "cell_type": "code",
   "execution_count": 13,
   "id": "27907586",
   "metadata": {},
   "outputs": [
    {
     "data": {
      "text/plain": [
       "array([0. , 0.5, 1. , 1.5, 2. ])"
      ]
     },
     "execution_count": 13,
     "metadata": {},
     "output_type": "execute_result"
    }
   ],
   "source": [
    "np.linspace(0,2,5) # start from 0, end at 2 and have 5 values Linearly-Spaced b/w 0 and 2 inclusively"
   ]
  },
  {
   "cell_type": "code",
   "execution_count": 14,
   "id": "9d30b683",
   "metadata": {},
   "outputs": [
    {
     "data": {
      "text/plain": [
       "array([[1., 0., 0., 0., 0., 0., 0., 0., 0., 0.],\n",
       "       [0., 1., 0., 0., 0., 0., 0., 0., 0., 0.],\n",
       "       [0., 0., 1., 0., 0., 0., 0., 0., 0., 0.],\n",
       "       [0., 0., 0., 1., 0., 0., 0., 0., 0., 0.],\n",
       "       [0., 0., 0., 0., 1., 0., 0., 0., 0., 0.],\n",
       "       [0., 0., 0., 0., 0., 1., 0., 0., 0., 0.],\n",
       "       [0., 0., 0., 0., 0., 0., 1., 0., 0., 0.],\n",
       "       [0., 0., 0., 0., 0., 0., 0., 1., 0., 0.],\n",
       "       [0., 0., 0., 0., 0., 0., 0., 0., 1., 0.],\n",
       "       [0., 0., 0., 0., 0., 0., 0., 0., 0., 1.]])"
      ]
     },
     "execution_count": 14,
     "metadata": {},
     "output_type": "execute_result"
    }
   ],
   "source": [
    "np.eye(10) #identity matrix of 10*10"
   ]
  },
  {
   "cell_type": "code",
   "execution_count": 15,
   "id": "f500450c",
   "metadata": {},
   "outputs": [
    {
     "data": {
      "text/plain": [
       "array([[0.25195843, 0.80167198, 0.27038629, 0.86056919, 0.80031951],\n",
       "       [0.94750318, 0.26885061, 0.21128187, 0.65567593, 0.15369996],\n",
       "       [0.12139805, 0.93249379, 0.78077978, 0.65237713, 0.43503343]])"
      ]
     },
     "execution_count": 15,
     "metadata": {},
     "output_type": "execute_result"
    }
   ],
   "source": [
    "np.random.rand(3,5) # random float number between 0 and 1 excluding them, with 3 rows and 5 columns"
   ]
  },
  {
   "cell_type": "code",
   "execution_count": 16,
   "id": "4a457f55",
   "metadata": {},
   "outputs": [
    {
     "data": {
      "text/plain": [
       "array([[ 2.15286853,  0.16285834, -0.03549749, -2.49041902,  1.616921  ]])"
      ]
     },
     "execution_count": 16,
     "metadata": {},
     "output_type": "execute_result"
    }
   ],
   "source": [
    "np.random.randn(1,5) # random float both +ve and +ve with 1 rows and 5 columns"
   ]
  },
  {
   "cell_type": "code",
   "execution_count": 17,
   "id": "83443903",
   "metadata": {},
   "outputs": [
    {
     "data": {
      "text/plain": [
       "28"
      ]
     },
     "execution_count": 17,
     "metadata": {},
     "output_type": "execute_result"
    }
   ],
   "source": [
    "np.random.randint(2,100) # random integer between 2 and 100"
   ]
  },
  {
   "cell_type": "code",
   "execution_count": 18,
   "id": "2891b3e5",
   "metadata": {},
   "outputs": [
    {
     "data": {
      "text/plain": [
       "array([66,  2, 24, 59, 94, 72, 13, 94, 82, 22, 47, 94, 12, 89, 76, 83,  5,\n",
       "       16, 37, 64])"
      ]
     },
     "execution_count": 18,
     "metadata": {},
     "output_type": "execute_result"
    }
   ],
   "source": [
    "np.random.randint(2,100,20)# 20 random integer between 2 and 100"
   ]
  },
  {
   "cell_type": "code",
   "execution_count": 19,
   "id": "223a803b",
   "metadata": {},
   "outputs": [
    {
     "data": {
      "text/plain": [
       "array([ 0,  1,  2,  3,  4,  5,  6,  7,  8,  9, 10, 11, 12, 13, 14, 15, 16,\n",
       "       17, 18, 19, 20, 21, 22, 23, 24, 25, 26, 27, 28, 29])"
      ]
     },
     "execution_count": 19,
     "metadata": {},
     "output_type": "execute_result"
    }
   ],
   "source": [
    "arr = np.arange(30) # guess the output\n",
    "arr"
   ]
  },
  {
   "cell_type": "code",
   "execution_count": 20,
   "id": "811e678c",
   "metadata": {},
   "outputs": [
    {
     "data": {
      "text/plain": [
       "array([14,  5, 24, 52,  2, 80, 54,  0, 32, 16, 74, 83, 50, 33, 22, 15, 52,\n",
       "       75, 26,  1])"
      ]
     },
     "execution_count": 20,
     "metadata": {},
     "output_type": "execute_result"
    }
   ],
   "source": [
    "arr1 = np.random.randint(0,100,20) # guess the output\n",
    "arr1"
   ]
  },
  {
   "cell_type": "code",
   "execution_count": 21,
   "id": "e2247b47",
   "metadata": {},
   "outputs": [
    {
     "data": {
      "text/plain": [
       "array([[ 0,  1,  2],\n",
       "       [ 3,  4,  5],\n",
       "       [ 6,  7,  8],\n",
       "       [ 9, 10, 11],\n",
       "       [12, 13, 14],\n",
       "       [15, 16, 17],\n",
       "       [18, 19, 20],\n",
       "       [21, 22, 23],\n",
       "       [24, 25, 26],\n",
       "       [27, 28, 29]])"
      ]
     },
     "execution_count": 21,
     "metadata": {},
     "output_type": "execute_result"
    }
   ],
   "source": [
    "arr.reshape(10,3) # reshape the array into desired no. of rows and columns like here arr named array into 10 row and 3 col"
   ]
  },
  {
   "cell_type": "code",
   "execution_count": 22,
   "id": "67f029d5",
   "metadata": {},
   "outputs": [
    {
     "ename": "ValueError",
     "evalue": "cannot reshape array of size 30 into shape (2,3)",
     "output_type": "error",
     "traceback": [
      "\u001b[1;31m---------------------------------------------------------------------------\u001b[0m",
      "\u001b[1;31mValueError\u001b[0m                                Traceback (most recent call last)",
      "\u001b[1;32m~\\AppData\\Local\\Temp\\ipykernel_8924\\14993743.py\u001b[0m in \u001b[0;36m<module>\u001b[1;34m\u001b[0m\n\u001b[1;32m----> 1\u001b[1;33m \u001b[0marr\u001b[0m\u001b[1;33m.\u001b[0m\u001b[0mreshape\u001b[0m\u001b[1;33m(\u001b[0m\u001b[1;36m2\u001b[0m\u001b[1;33m,\u001b[0m\u001b[1;36m3\u001b[0m\u001b[1;33m)\u001b[0m \u001b[1;31m# can't reshape this time coz 2 rows and 3 cols can only have 6 elements but in arr named array there are 30\u001b[0m\u001b[1;33m\u001b[0m\u001b[1;33m\u001b[0m\u001b[0m\n\u001b[0m",
      "\u001b[1;31mValueError\u001b[0m: cannot reshape array of size 30 into shape (2,3)"
     ]
    }
   ],
   "source": [
    "arr.reshape(2,3) # can't reshape this time coz 2 rows and 3 cols can only have 6 elements but in arr named array there are 30 "
   ]
  },
  {
   "cell_type": "code",
   "execution_count": 23,
   "id": "3328611e",
   "metadata": {},
   "outputs": [
    {
     "data": {
      "text/plain": [
       "29"
      ]
     },
     "execution_count": 23,
     "metadata": {},
     "output_type": "execute_result"
    }
   ],
   "source": [
    "arr.max() # gives maximum value in array as output "
   ]
  },
  {
   "cell_type": "code",
   "execution_count": 24,
   "id": "d92ba75e",
   "metadata": {},
   "outputs": [
    {
     "data": {
      "text/plain": [
       "11"
      ]
     },
     "execution_count": 24,
     "metadata": {},
     "output_type": "execute_result"
    }
   ],
   "source": [
    "arr1.argmax() # gives index value of maximum value in array as output"
   ]
  },
  {
   "cell_type": "code",
   "execution_count": 25,
   "id": "e43c629b",
   "metadata": {},
   "outputs": [
    {
     "name": "stdout",
     "output_type": "stream",
     "text": [
      "[[32 28 37 37 29]\n",
      " [54 54 48 21 49]\n",
      " [36 40 50 20 33]\n",
      " [47 32 20 51 24]]\n"
     ]
    }
   ],
   "source": [
    "samp = np.random.randint(20,56,20)\n",
    "samp1 = samp.reshape(4,5)\n",
    "print(samp1)"
   ]
  },
  {
   "cell_type": "code",
   "execution_count": 26,
   "id": "0a397744",
   "metadata": {},
   "outputs": [
    {
     "data": {
      "text/plain": [
       "array([[32, 54, 36, 47],\n",
       "       [28, 54, 40, 32],\n",
       "       [37, 48, 50, 20],\n",
       "       [37, 21, 20, 51],\n",
       "       [29, 49, 33, 24]])"
      ]
     },
     "execution_count": 26,
     "metadata": {},
     "output_type": "execute_result"
    }
   ],
   "source": [
    "samp1.T # .T function is used to create Transpose"
   ]
  },
  {
   "cell_type": "code",
   "execution_count": 27,
   "id": "10911828",
   "metadata": {},
   "outputs": [
    {
     "data": {
      "text/plain": [
       "32"
      ]
     },
     "execution_count": 27,
     "metadata": {},
     "output_type": "execute_result"
    }
   ],
   "source": [
    "samp1[0][0] # 0 == 0th row (i.e., first row in indexing counting start from 0) & 0 == 1st column value from 0th row \n",
    "# retrieve value from array 1st number represent row and 2nd column no."
   ]
  },
  {
   "cell_type": "code",
   "execution_count": 28,
   "id": "0fc17b26",
   "metadata": {},
   "outputs": [
    {
     "data": {
      "text/plain": [
       "array([10, 11, 12, 13, 14, 15, 16, 17, 18, 19, 20])"
      ]
     },
     "execution_count": 28,
     "metadata": {},
     "output_type": "execute_result"
    }
   ],
   "source": [
    "sample_arr1 = np.arange(10,21)\n",
    "sample_arr1"
   ]
  },
  {
   "cell_type": "code",
   "execution_count": 29,
   "id": "7cab2b35",
   "metadata": {},
   "outputs": [
    {
     "data": {
      "text/plain": [
       "10"
      ]
     },
     "execution_count": 29,
     "metadata": {},
     "output_type": "execute_result"
    }
   ],
   "source": [
    "sample_arr1[0] # retreiving element from array using index no."
   ]
  },
  {
   "cell_type": "code",
   "execution_count": 30,
   "id": "95c5bf00",
   "metadata": {},
   "outputs": [
    {
     "data": {
      "text/plain": [
       "array([12, 13, 14])"
      ]
     },
     "execution_count": 30,
     "metadata": {},
     "output_type": "execute_result"
    }
   ],
   "source": [
    "sample_arr1[2:5] # retreiving element b/w 2 to 5 exclusive of index no. 5"
   ]
  },
  {
   "cell_type": "code",
   "execution_count": 31,
   "id": "86c71e53",
   "metadata": {},
   "outputs": [
    {
     "data": {
      "text/plain": [
       "array([10, 11, 12, 13,  1,  1, 16, 17, 18, 19, 20])"
      ]
     },
     "execution_count": 31,
     "metadata": {},
     "output_type": "execute_result"
    }
   ],
   "source": [
    "sample_arr1[4:6]= 1\n",
    "sample_arr1"
   ]
  },
  {
   "cell_type": "code",
   "execution_count": 32,
   "id": "a686b73a",
   "metadata": {},
   "outputs": [
    {
     "data": {
      "text/plain": [
       "array([10, 11, 12, 13,  1,  1])"
      ]
     },
     "execution_count": 32,
     "metadata": {},
     "output_type": "execute_result"
    }
   ],
   "source": [
    "sample_arr1[:6]"
   ]
  },
  {
   "cell_type": "code",
   "execution_count": 33,
   "id": "259d0c05",
   "metadata": {},
   "outputs": [
    {
     "data": {
      "text/plain": [
       "array([10, 11, 12, 13,  1,  1, 16, 17, 18, 19, 20])"
      ]
     },
     "execution_count": 33,
     "metadata": {},
     "output_type": "execute_result"
    }
   ],
   "source": [
    "sample_arr1[0:]"
   ]
  },
  {
   "cell_type": "code",
   "execution_count": 34,
   "id": "38bd7eec",
   "metadata": {},
   "outputs": [
    {
     "data": {
      "text/plain": [
       "array([1001, 1001, 1001, 1001, 1001, 1001, 1001, 1001, 1001, 1001, 1001])"
      ]
     },
     "execution_count": 34,
     "metadata": {},
     "output_type": "execute_result"
    }
   ],
   "source": [
    "sample_arr1[:] = 1001\n",
    "sample_arr1[:]"
   ]
  },
  {
   "cell_type": "markdown",
   "id": "f6968dd7",
   "metadata": {},
   "source": [
    "### Two Dimensional Array"
   ]
  },
  {
   "cell_type": "code",
   "execution_count": 35,
   "id": "c1b5d239",
   "metadata": {},
   "outputs": [
    {
     "data": {
      "text/plain": [
       "array([[1, 2, 3],\n",
       "       [4, 5, 6],\n",
       "       [9, 8, 7]])"
      ]
     },
     "execution_count": 35,
     "metadata": {},
     "output_type": "execute_result"
    }
   ],
   "source": [
    "import numpy as np\n",
    "samp_1 = np.array([[1,2,3],[4,5,6],[9,8,7]])\n",
    "samp_1"
   ]
  },
  {
   "cell_type": "code",
   "execution_count": 36,
   "id": "124cec34",
   "metadata": {},
   "outputs": [
    {
     "data": {
      "text/plain": [
       "6"
      ]
     },
     "execution_count": 36,
     "metadata": {},
     "output_type": "execute_result"
    }
   ],
   "source": [
    "samp_1[1,2] # 1 represent row with index no. 1 and 2 represent column with index no. 2 in given row (index no. start from 0)\n",
    "samp_1[1][2] # both are same"
   ]
  },
  {
   "cell_type": "code",
   "execution_count": 37,
   "id": "56426c78",
   "metadata": {},
   "outputs": [
    {
     "data": {
      "text/plain": [
       "array([9, 8, 7])"
      ]
     },
     "execution_count": 37,
     "metadata": {},
     "output_type": "execute_result"
    }
   ],
   "source": [
    "samp_1[2,:] # complete row with index no. 2\n",
    "samp_1[2] #both are same"
   ]
  },
  {
   "cell_type": "code",
   "execution_count": 38,
   "id": "d7709796",
   "metadata": {},
   "outputs": [
    {
     "data": {
      "text/plain": [
       "array([[2, 3],\n",
       "       [5, 6],\n",
       "       [8, 7]])"
      ]
     },
     "execution_count": 38,
     "metadata": {},
     "output_type": "execute_result"
    }
   ],
   "source": [
    "samp_1[:,(1,2)]  # value of column's with index no. 1 & 2 from all rows"
   ]
  },
  {
   "cell_type": "markdown",
   "id": "a9a5ec83",
   "metadata": {},
   "source": [
    "### Selection Techniques"
   ]
  },
  {
   "cell_type": "code",
   "execution_count": 39,
   "id": "0a68dbe3",
   "metadata": {},
   "outputs": [
    {
     "data": {
      "text/plain": [
       "array([ 1,  2,  3,  4,  5,  6,  7,  8,  9, 10, 11, 12, 13, 14, 15, 16, 17,\n",
       "       18, 19])"
      ]
     },
     "execution_count": 39,
     "metadata": {},
     "output_type": "execute_result"
    }
   ],
   "source": [
    "samp_arr = np.arange(1,20)\n",
    "samp_arr"
   ]
  },
  {
   "cell_type": "code",
   "execution_count": 40,
   "id": "a970beaa",
   "metadata": {},
   "outputs": [
    {
     "data": {
      "text/plain": [
       "array([ 2,  4,  6,  8, 10, 12, 14, 16, 18, 20, 22, 24, 26, 28, 30, 32, 34,\n",
       "       36, 38])"
      ]
     },
     "execution_count": 40,
     "metadata": {},
     "output_type": "execute_result"
    }
   ],
   "source": [
    "samp_arr + samp_arr"
   ]
  },
  {
   "cell_type": "code",
   "execution_count": 41,
   "id": "c3838f63",
   "metadata": {},
   "outputs": [
    {
     "data": {
      "text/plain": [
       "array([2.71828183e+00, 7.38905610e+00, 2.00855369e+01, 5.45981500e+01,\n",
       "       1.48413159e+02, 4.03428793e+02, 1.09663316e+03, 2.98095799e+03,\n",
       "       8.10308393e+03, 2.20264658e+04, 5.98741417e+04, 1.62754791e+05,\n",
       "       4.42413392e+05, 1.20260428e+06, 3.26901737e+06, 8.88611052e+06,\n",
       "       2.41549528e+07, 6.56599691e+07, 1.78482301e+08])"
      ]
     },
     "execution_count": 41,
     "metadata": {},
     "output_type": "execute_result"
    }
   ],
   "source": [
    "np.exp(samp_arr) #exponential "
   ]
  },
  {
   "cell_type": "code",
   "execution_count": 42,
   "id": "792b32d9",
   "metadata": {},
   "outputs": [
    {
     "data": {
      "text/plain": [
       "array([1.        , 1.41421356, 1.73205081, 2.        , 2.23606798,\n",
       "       2.44948974, 2.64575131, 2.82842712, 3.        , 3.16227766,\n",
       "       3.31662479, 3.46410162, 3.60555128, 3.74165739, 3.87298335,\n",
       "       4.        , 4.12310563, 4.24264069, 4.35889894])"
      ]
     },
     "execution_count": 42,
     "metadata": {},
     "output_type": "execute_result"
    }
   ],
   "source": [
    "np.sqrt(samp_arr) #square root"
   ]
  },
  {
   "cell_type": "code",
   "execution_count": 43,
   "id": "edf4c38d",
   "metadata": {},
   "outputs": [
    {
     "data": {
      "text/plain": [
       "array([0.        , 0.69314718, 1.09861229, 1.38629436, 1.60943791,\n",
       "       1.79175947, 1.94591015, 2.07944154, 2.19722458, 2.30258509,\n",
       "       2.39789527, 2.48490665, 2.56494936, 2.63905733, 2.7080502 ,\n",
       "       2.77258872, 2.83321334, 2.89037176, 2.94443898])"
      ]
     },
     "execution_count": 43,
     "metadata": {},
     "output_type": "execute_result"
    }
   ],
   "source": [
    "np.log(samp_arr)"
   ]
  },
  {
   "cell_type": "code",
   "execution_count": 44,
   "id": "29de236b",
   "metadata": {},
   "outputs": [
    {
     "data": {
      "text/plain": [
       "19"
      ]
     },
     "execution_count": 44,
     "metadata": {},
     "output_type": "execute_result"
    }
   ],
   "source": [
    "np.max(samp_arr)"
   ]
  },
  {
   "cell_type": "code",
   "execution_count": 45,
   "id": "a40e1882",
   "metadata": {},
   "outputs": [
    {
     "data": {
      "text/plain": [
       "1"
      ]
     },
     "execution_count": 45,
     "metadata": {},
     "output_type": "execute_result"
    }
   ],
   "source": [
    "np.min(samp_arr)"
   ]
  },
  {
   "cell_type": "code",
   "execution_count": 46,
   "id": "acedcf40",
   "metadata": {},
   "outputs": [
    {
     "data": {
      "text/plain": [
       "18"
      ]
     },
     "execution_count": 46,
     "metadata": {},
     "output_type": "execute_result"
    }
   ],
   "source": [
    "np.argmax(samp_arr)"
   ]
  },
  {
   "cell_type": "code",
   "execution_count": 47,
   "id": "cca6f3ec",
   "metadata": {},
   "outputs": [
    {
     "data": {
      "text/plain": [
       "0"
      ]
     },
     "execution_count": 47,
     "metadata": {},
     "output_type": "execute_result"
    }
   ],
   "source": [
    "np.argmin(samp_arr)"
   ]
  },
  {
   "cell_type": "code",
   "execution_count": 48,
   "id": "fcc9468a",
   "metadata": {},
   "outputs": [
    {
     "data": {
      "text/plain": [
       "array([  1,   4,   9,  16,  25,  36,  49,  64,  81, 100, 121, 144, 169,\n",
       "       196, 225, 256, 289, 324, 361], dtype=int32)"
      ]
     },
     "execution_count": 48,
     "metadata": {},
     "output_type": "execute_result"
    }
   ],
   "source": [
    "np.square(samp_arr)"
   ]
  },
  {
   "cell_type": "code",
   "execution_count": 49,
   "id": "ffe493bb",
   "metadata": {},
   "outputs": [
    {
     "data": {
      "text/plain": [
       "5.477225575051661"
      ]
     },
     "execution_count": 49,
     "metadata": {},
     "output_type": "execute_result"
    }
   ],
   "source": [
    "np.std(samp_arr) # std --> Standard Deviation"
   ]
  },
  {
   "cell_type": "code",
   "execution_count": 50,
   "id": "162a5934",
   "metadata": {},
   "outputs": [
    {
     "data": {
      "text/plain": [
       "30.0"
      ]
     },
     "execution_count": 50,
     "metadata": {},
     "output_type": "execute_result"
    }
   ],
   "source": [
    "np.var(samp_arr) # var --> Variance"
   ]
  },
  {
   "cell_type": "code",
   "execution_count": 51,
   "id": "4877fed0",
   "metadata": {},
   "outputs": [
    {
     "data": {
      "text/plain": [
       "10.0"
      ]
     },
     "execution_count": 51,
     "metadata": {},
     "output_type": "execute_result"
    }
   ],
   "source": [
    "np.mean(samp_arr)"
   ]
  },
  {
   "cell_type": "code",
   "execution_count": 52,
   "id": "f4e39462",
   "metadata": {},
   "outputs": [
    {
     "data": {
      "text/plain": [
       "array([ 0,  1,  2,  3,  4,  5,  6,  7,  8,  9, 10, 11, 12, 13, 14, 15, 16,\n",
       "       17, 18, 19, 20, 21, 22, 23, 24, 25, 26, 27, 28, 29])"
      ]
     },
     "execution_count": 52,
     "metadata": {},
     "output_type": "execute_result"
    }
   ],
   "source": [
    "arr0 = np.random.randn(3,4)\n",
    "arr"
   ]
  },
  {
   "cell_type": "code",
   "execution_count": 53,
   "id": "2932672b",
   "metadata": {},
   "outputs": [
    {
     "data": {
      "text/plain": [
       "array([[-0.46, -0.67, -1.85,  0.12],\n",
       "       [ 0.76,  0.44,  0.02,  1.2 ],\n",
       "       [ 0.65,  0.11,  0.3 , -0.18]])"
      ]
     },
     "execution_count": 53,
     "metadata": {},
     "output_type": "execute_result"
    }
   ],
   "source": [
    "np.round(arr0,decimals=2) # rounding of to two digits"
   ]
  },
  {
   "cell_type": "code",
   "execution_count": null,
   "id": "26cb4414",
   "metadata": {},
   "outputs": [],
   "source": [
    "sport = [\"cricket\",\"football\",\"run\",\"cricket\"]\n",
    "np.unique(sport) # removes any duplicate present "
   ]
  },
  {
   "cell_type": "code",
   "execution_count": null,
   "id": "4e292482",
   "metadata": {},
   "outputs": [],
   "source": []
  }
 ],
 "metadata": {
  "kernelspec": {
   "display_name": "Python 3 (ipykernel)",
   "language": "python",
   "name": "python3"
  },
  "language_info": {
   "codemirror_mode": {
    "name": "ipython",
    "version": 3
   },
   "file_extension": ".py",
   "mimetype": "text/x-python",
   "name": "python",
   "nbconvert_exporter": "python",
   "pygments_lexer": "ipython3",
   "version": "3.9.13"
  }
 },
 "nbformat": 4,
 "nbformat_minor": 5
}

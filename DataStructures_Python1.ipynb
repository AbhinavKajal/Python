{
 "cells": [
  {
   "cell_type": "markdown",
   "id": "a263dce4",
   "metadata": {},
   "source": [
    "# Data Structures:-"
   ]
  },
  {
   "cell_type": "markdown",
   "id": "ef9f2d8f",
   "metadata": {},
   "source": [
    "### List :"
   ]
  },
  {
   "cell_type": "code",
   "execution_count": 1,
   "id": "b1e9cffc",
   "metadata": {},
   "outputs": [
    {
     "data": {
      "text/plain": [
       "[1, 89, 'hlo', 79.98, 23]"
      ]
     },
     "execution_count": 1,
     "metadata": {},
     "output_type": "execute_result"
    }
   ],
   "source": [
    "\n",
    "''' \n",
    "<*>List :-- Data stored in [] separated by ,\n",
    "<*>Heterogeneous in nature(can store variable of different DataTypes)\n",
    "<*>List item can be retrieved using index (index in list start with number 0 first element is considered as 0 element)\n",
    "<*>List is mutable that is item in it can be changed even after its created\n",
    "'''\n",
    "sample_list = [1,89,\"hlo\",79.98,23]\n",
    "sample_list"
   ]
  },
  {
   "cell_type": "code",
   "execution_count": 2,
   "id": "829fd536",
   "metadata": {},
   "outputs": [
    {
     "data": {
      "text/plain": [
       "list"
      ]
     },
     "execution_count": 2,
     "metadata": {},
     "output_type": "execute_result"
    }
   ],
   "source": [
    "type(sample_list)"
   ]
  },
  {
   "cell_type": "code",
   "execution_count": 3,
   "id": "c57056b2",
   "metadata": {},
   "outputs": [
    {
     "data": {
      "text/plain": [
       "1"
      ]
     },
     "execution_count": 3,
     "metadata": {},
     "output_type": "execute_result"
    }
   ],
   "source": [
    "sample_list[0] #start from zero first element"
   ]
  },
  {
   "cell_type": "code",
   "execution_count": 4,
   "id": "12cadc82",
   "metadata": {},
   "outputs": [
    {
     "ename": "IndexError",
     "evalue": "list index out of range",
     "output_type": "error",
     "traceback": [
      "\u001b[1;31m---------------------------------------------------------------------------\u001b[0m",
      "\u001b[1;31mIndexError\u001b[0m                                Traceback (most recent call last)",
      "\u001b[1;32m~\\AppData\\Local\\Temp\\ipykernel_15396\\2795979868.py\u001b[0m in \u001b[0;36m<module>\u001b[1;34m\u001b[0m\n\u001b[1;32m----> 1\u001b[1;33m \u001b[0msample_list\u001b[0m\u001b[1;33m[\u001b[0m\u001b[1;36m5\u001b[0m\u001b[1;33m]\u001b[0m \u001b[1;31m#if exceeds index number shows error\u001b[0m\u001b[1;33m\u001b[0m\u001b[1;33m\u001b[0m\u001b[0m\n\u001b[0m",
      "\u001b[1;31mIndexError\u001b[0m: list index out of range"
     ]
    }
   ],
   "source": [
    "sample_list[5] #if exceeds index number shows error"
   ]
  },
  {
   "cell_type": "code",
   "execution_count": 5,
   "id": "334e6d34",
   "metadata": {},
   "outputs": [
    {
     "data": {
      "text/plain": [
       "23"
      ]
     },
     "execution_count": 5,
     "metadata": {},
     "output_type": "execute_result"
    }
   ],
   "source": [
    "sample_list[-1] #start from end of list"
   ]
  },
  {
   "cell_type": "code",
   "execution_count": 6,
   "id": "d1f5aa6e",
   "metadata": {},
   "outputs": [],
   "source": [
    "sample_list[0]= 100 # element replaced at given position by new element"
   ]
  },
  {
   "cell_type": "code",
   "execution_count": 7,
   "id": "0260c678",
   "metadata": {},
   "outputs": [
    {
     "data": {
      "text/plain": [
       "[100, 89, 'hlo', 79.98, 23]"
      ]
     },
     "execution_count": 7,
     "metadata": {},
     "output_type": "execute_result"
    }
   ],
   "source": [
    "sample_list"
   ]
  },
  {
   "cell_type": "markdown",
   "id": "99cbbce5",
   "metadata": {},
   "source": [
    "### Tuple :"
   ]
  },
  {
   "cell_type": "code",
   "execution_count": 8,
   "id": "1d65e144",
   "metadata": {},
   "outputs": [
    {
     "name": "stdout",
     "output_type": "stream",
     "text": [
      "(98, 0, 'hii', 87)\n"
     ]
    },
    {
     "data": {
      "text/plain": [
       "tuple"
      ]
     },
     "execution_count": 8,
     "metadata": {},
     "output_type": "execute_result"
    }
   ],
   "source": [
    "''' \n",
    "<*>Tuple :-- Data stored in () separated by , \n",
    "<*>Heterogeneous in nature(can store variable of different DataTypes)\n",
    "<*>Tuple item can be retrieved using index (index in Tuple start with number 0 first element is considered as 0 element)\n",
    "<*>Tuple is not mutable\n",
    "'''\n",
    "sample_tuple = (98,0,\"hii\",87)\n",
    "print(sample_tuple)\n",
    "type(sample_tuple)"
   ]
  },
  {
   "cell_type": "code",
   "execution_count": 9,
   "id": "ac84da25",
   "metadata": {},
   "outputs": [
    {
     "name": "stdout",
     "output_type": "stream",
     "text": [
      "<class 'tuple'>\n",
      "(98, 0, 'hii', 87)\n"
     ]
    }
   ],
   "source": [
    "sample_tuple = 98,0,\"hii\",87 #even if store w/o () but separated by , its considered as Tuple\n",
    "print(type(sample_tuple))\n",
    "print(sample_tuple)"
   ]
  },
  {
   "cell_type": "code",
   "execution_count": 10,
   "id": "597590a4",
   "metadata": {},
   "outputs": [
    {
     "data": {
      "text/plain": [
       "98"
      ]
     },
     "execution_count": 10,
     "metadata": {},
     "output_type": "execute_result"
    }
   ],
   "source": [
    "sample_tuple[0]"
   ]
  },
  {
   "cell_type": "code",
   "execution_count": 11,
   "id": "7a40d335",
   "metadata": {},
   "outputs": [
    {
     "ename": "IndexError",
     "evalue": "tuple index out of range",
     "output_type": "error",
     "traceback": [
      "\u001b[1;31m---------------------------------------------------------------------------\u001b[0m",
      "\u001b[1;31mIndexError\u001b[0m                                Traceback (most recent call last)",
      "\u001b[1;32m~\\AppData\\Local\\Temp\\ipykernel_15396\\1356583626.py\u001b[0m in \u001b[0;36m<module>\u001b[1;34m\u001b[0m\n\u001b[1;32m----> 1\u001b[1;33m \u001b[0msample_tuple\u001b[0m\u001b[1;33m[\u001b[0m\u001b[1;36m5\u001b[0m\u001b[1;33m]\u001b[0m\u001b[1;33m\u001b[0m\u001b[1;33m\u001b[0m\u001b[0m\n\u001b[0m",
      "\u001b[1;31mIndexError\u001b[0m: tuple index out of range"
     ]
    }
   ],
   "source": [
    "sample_tuple[5]"
   ]
  },
  {
   "cell_type": "code",
   "execution_count": 12,
   "id": "487484fe",
   "metadata": {},
   "outputs": [
    {
     "data": {
      "text/plain": [
       "87"
      ]
     },
     "execution_count": 12,
     "metadata": {},
     "output_type": "execute_result"
    }
   ],
   "source": [
    "sample_tuple[-1]"
   ]
  },
  {
   "cell_type": "code",
   "execution_count": 13,
   "id": "249db21b",
   "metadata": {},
   "outputs": [
    {
     "ename": "TypeError",
     "evalue": "'tuple' object does not support item assignment",
     "output_type": "error",
     "traceback": [
      "\u001b[1;31m---------------------------------------------------------------------------\u001b[0m",
      "\u001b[1;31mTypeError\u001b[0m                                 Traceback (most recent call last)",
      "\u001b[1;32m~\\AppData\\Local\\Temp\\ipykernel_15396\\3544593099.py\u001b[0m in \u001b[0;36m<module>\u001b[1;34m\u001b[0m\n\u001b[1;32m----> 1\u001b[1;33m \u001b[0msample_tuple\u001b[0m\u001b[1;33m[\u001b[0m\u001b[1;36m0\u001b[0m\u001b[1;33m]\u001b[0m \u001b[1;33m=\u001b[0m \u001b[1;36m199\u001b[0m \u001b[1;31m## tuple is immutable\u001b[0m\u001b[1;33m\u001b[0m\u001b[1;33m\u001b[0m\u001b[0m\n\u001b[0m",
      "\u001b[1;31mTypeError\u001b[0m: 'tuple' object does not support item assignment"
     ]
    }
   ],
   "source": [
    "sample_tuple[0] = 199 ## tuple is immutable"
   ]
  },
  {
   "cell_type": "markdown",
   "id": "26359484",
   "metadata": {},
   "source": [
    " ### Set :"
   ]
  },
  {
   "cell_type": "code",
   "execution_count": 14,
   "id": "d8f4e85f",
   "metadata": {},
   "outputs": [
    {
     "data": {
      "text/plain": [
       "{0, 1, 111, 12, 23, 55, 6, 99, 'hello', 'hii'}"
      ]
     },
     "execution_count": 14,
     "metadata": {},
     "output_type": "execute_result"
    }
   ],
   "source": [
    "''' \n",
    "<*>Set :-- Data stored in {} separated by , \n",
    "<*>Heterogeneous in nature(can store variable of different DataTypes)\n",
    "<*>Set item can't be retrieved using index (index in list start with number 0 first element is considered as 0 element)\n",
    "<*>Set is mutable but not using indexing\n",
    "'''\n",
    "sample_set = {0,1,1,99,111,\"hii\",\"hello\",99,55,6,23,12,\"hii\"} ## it is similar to mathematical set one element can't repeat\n",
    "sample_set"
   ]
  },
  {
   "cell_type": "code",
   "execution_count": 15,
   "id": "a03dc8f6",
   "metadata": {},
   "outputs": [
    {
     "ename": "TypeError",
     "evalue": "'set' object is not subscriptable",
     "output_type": "error",
     "traceback": [
      "\u001b[1;31m---------------------------------------------------------------------------\u001b[0m",
      "\u001b[1;31mTypeError\u001b[0m                                 Traceback (most recent call last)",
      "\u001b[1;32m~\\AppData\\Local\\Temp\\ipykernel_15396\\1290750916.py\u001b[0m in \u001b[0;36m<module>\u001b[1;34m\u001b[0m\n\u001b[1;32m----> 1\u001b[1;33m \u001b[0msample_set\u001b[0m\u001b[1;33m[\u001b[0m\u001b[1;36m0\u001b[0m\u001b[1;33m]\u001b[0m \u001b[1;31m## can't retrieve element using index number as item are arranged randomly\u001b[0m\u001b[1;33m\u001b[0m\u001b[1;33m\u001b[0m\u001b[0m\n\u001b[0m",
      "\u001b[1;31mTypeError\u001b[0m: 'set' object is not subscriptable"
     ]
    }
   ],
   "source": [
    "sample_set[0] ## can't retrieve element using index number as item are arranged randomly"
   ]
  },
  {
   "cell_type": "code",
   "execution_count": 16,
   "id": "e3243383",
   "metadata": {},
   "outputs": [
    {
     "ename": "TypeError",
     "evalue": "'set' object does not support item assignment",
     "output_type": "error",
     "traceback": [
      "\u001b[1;31m---------------------------------------------------------------------------\u001b[0m",
      "\u001b[1;31mTypeError\u001b[0m                                 Traceback (most recent call last)",
      "\u001b[1;32m~\\AppData\\Local\\Temp\\ipykernel_15396\\3870448625.py\u001b[0m in \u001b[0;36m<module>\u001b[1;34m\u001b[0m\n\u001b[1;32m----> 1\u001b[1;33m \u001b[0msample_set\u001b[0m\u001b[1;33m[\u001b[0m\u001b[1;36m0\u001b[0m\u001b[1;33m]\u001b[0m\u001b[1;33m=\u001b[0m \u001b[1;36m100\u001b[0m \u001b[1;31m## can't mutate using index number as item are not arranged in similar way as input in output\u001b[0m\u001b[1;33m\u001b[0m\u001b[1;33m\u001b[0m\u001b[0m\n\u001b[0m",
      "\u001b[1;31mTypeError\u001b[0m: 'set' object does not support item assignment"
     ]
    }
   ],
   "source": [
    "sample_set[0]= 100 ## can't mutate using index number as item are not arranged in similar way as input in output"
   ]
  },
  {
   "cell_type": "code",
   "execution_count": 17,
   "id": "635e32c8",
   "metadata": {},
   "outputs": [
    {
     "data": {
      "text/plain": [
       "{0, 1, 10001, 111, 12, 23, 55, 6, 99, 'hello', 'hii'}"
      ]
     },
     "execution_count": 17,
     "metadata": {},
     "output_type": "execute_result"
    }
   ],
   "source": [
    "sample_set.add(10001) ## set can be mutated using add and remove function\n",
    "sample_set"
   ]
  },
  {
   "cell_type": "code",
   "execution_count": 18,
   "id": "86897d9b",
   "metadata": {},
   "outputs": [
    {
     "data": {
      "text/plain": [
       "{0, 1, 10001, 111, 12, 23, 55, 6, 99, 'hello'}"
      ]
     },
     "execution_count": 18,
     "metadata": {},
     "output_type": "execute_result"
    }
   ],
   "source": [
    "sample_set.remove(\"hii\")\n",
    "sample_set"
   ]
  },
  {
   "cell_type": "markdown",
   "id": "fd300a1d",
   "metadata": {},
   "source": [
    "### Dictionary :"
   ]
  },
  {
   "cell_type": "code",
   "execution_count": 19,
   "id": "3a634a80",
   "metadata": {},
   "outputs": [
    {
     "data": {
      "text/plain": [
       "{1: 'Abhi', 2: 56, 3: 'king', 4: 89.07, 5: 89.07}"
      ]
     },
     "execution_count": 19,
     "metadata": {},
     "output_type": "execute_result"
    }
   ],
   "source": [
    "''' \n",
    "<*>Dictionay :-- Data stored in {key1:value1} separated by , \n",
    "<*>Heterogeneous in nature(can store variable of different DataTypes)\n",
    "<*>Dictionary item can be retrieved using key \n",
    "<*>Dictionary is mutable \n",
    "'''\n",
    "sample_dict = {1: \"Abhi\", 2: 56, 3:\"king\", 4: 89.07, 5: 89.07} ## Value can be duplicatd but Key are unique\n",
    "sample_dict"
   ]
  },
  {
   "cell_type": "code",
   "execution_count": 20,
   "id": "0558ee32",
   "metadata": {},
   "outputs": [
    {
     "data": {
      "text/plain": [
       "'Abhi'"
      ]
     },
     "execution_count": 20,
     "metadata": {},
     "output_type": "execute_result"
    }
   ],
   "source": [
    "sample_dict[1] ## Value can be retrieved using Key"
   ]
  },
  {
   "cell_type": "code",
   "execution_count": 21,
   "id": "773861d6",
   "metadata": {},
   "outputs": [
    {
     "ename": "KeyError",
     "evalue": "'Abhi'",
     "output_type": "error",
     "traceback": [
      "\u001b[1;31m---------------------------------------------------------------------------\u001b[0m",
      "\u001b[1;31mKeyError\u001b[0m                                  Traceback (most recent call last)",
      "\u001b[1;32m~\\AppData\\Local\\Temp\\ipykernel_15396\\622294935.py\u001b[0m in \u001b[0;36m<module>\u001b[1;34m\u001b[0m\n\u001b[1;32m----> 1\u001b[1;33m \u001b[0msample_dict\u001b[0m\u001b[1;33m[\u001b[0m\u001b[1;34m\"Abhi\"\u001b[0m\u001b[1;33m]\u001b[0m \u001b[1;31m## Key can't be retrieved using Value\u001b[0m\u001b[1;33m\u001b[0m\u001b[1;33m\u001b[0m\u001b[0m\n\u001b[0m",
      "\u001b[1;31mKeyError\u001b[0m: 'Abhi'"
     ]
    }
   ],
   "source": [
    "sample_dict[\"Abhi\"] ## Key can't be retrieved using Value"
   ]
  },
  {
   "cell_type": "code",
   "execution_count": 22,
   "id": "5f8f3491",
   "metadata": {},
   "outputs": [
    {
     "data": {
      "text/plain": [
       "{1: 'Abhi', 2: 56, 3: 'king', 4: 89.07, 5: 'suiiiiiiiii'}"
      ]
     },
     "execution_count": 22,
     "metadata": {},
     "output_type": "execute_result"
    }
   ],
   "source": [
    "sample_dict[5]=\"suiiiiiiiii\"\n",
    "sample_dict"
   ]
  },
  {
   "cell_type": "code",
   "execution_count": 23,
   "id": "cd6e92b0",
   "metadata": {},
   "outputs": [
    {
     "data": {
      "text/plain": [
       "{1: 'Abhi', 2: 56, 3: 'king', 4: 89.07, 5: 'suiiiiiiiii', 1001: 98}"
      ]
     },
     "execution_count": 23,
     "metadata": {},
     "output_type": "execute_result"
    }
   ],
   "source": [
    "sample_dict[1001] = 98 ## new key:pair value can also be added\n",
    "sample_dict"
   ]
  },
  {
   "cell_type": "code",
   "execution_count": null,
   "id": "d372ff6b",
   "metadata": {},
   "outputs": [],
   "source": []
  }
 ],
 "metadata": {
  "kernelspec": {
   "display_name": "Python 3 (ipykernel)",
   "language": "python",
   "name": "python3"
  },
  "language_info": {
   "codemirror_mode": {
    "name": "ipython",
    "version": 3
   },
   "file_extension": ".py",
   "mimetype": "text/x-python",
   "name": "python",
   "nbconvert_exporter": "python",
   "pygments_lexer": "ipython3",
   "version": "3.9.13"
  }
 },
 "nbformat": 4,
 "nbformat_minor": 5
}

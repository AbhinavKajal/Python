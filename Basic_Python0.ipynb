{
 "cells": [
  {
   "cell_type": "code",
   "execution_count": 1,
   "id": "bff9c363",
   "metadata": {},
   "outputs": [
    {
     "name": "stdout",
     "output_type": "stream",
     "text": [
      "Hello World\n"
     ]
    }
   ],
   "source": [
    "print(\"Hello World\")"
   ]
  },
  {
   "cell_type": "code",
   "execution_count": 2,
   "id": "b5bbb4a5",
   "metadata": {},
   "outputs": [
    {
     "ename": "NameError",
     "evalue": "name 'Print' is not defined",
     "output_type": "error",
     "traceback": [
      "\u001b[1;31m---------------------------------------------------------------------------\u001b[0m",
      "\u001b[1;31mNameError\u001b[0m                                 Traceback (most recent call last)",
      "\u001b[1;32m~\\AppData\\Local\\Temp\\ipykernel_4872\\3239139110.py\u001b[0m in \u001b[0;36m<module>\u001b[1;34m\u001b[0m\n\u001b[1;32m----> 1\u001b[1;33m \u001b[0mPrint\u001b[0m\u001b[1;33m(\u001b[0m\u001b[1;34m\"hello \"\u001b[0m\u001b[1;33m)\u001b[0m \u001b[1;31m#Error as Python is Case-Sensitive\u001b[0m\u001b[1;33m\u001b[0m\u001b[1;33m\u001b[0m\u001b[0m\n\u001b[0m",
      "\u001b[1;31mNameError\u001b[0m: name 'Print' is not defined"
     ]
    }
   ],
   "source": [
    "Print(\"hello \") #Error as Python is Case-Sensitive "
   ]
  },
  {
   "cell_type": "code",
   "execution_count": 3,
   "id": "f8d166a4",
   "metadata": {},
   "outputs": [
    {
     "ename": "NameError",
     "evalue": "name 'hello' is not defined",
     "output_type": "error",
     "traceback": [
      "\u001b[1;31m---------------------------------------------------------------------------\u001b[0m",
      "\u001b[1;31mNameError\u001b[0m                                 Traceback (most recent call last)",
      "\u001b[1;32m~\\AppData\\Local\\Temp\\ipykernel_4872\\1607452855.py\u001b[0m in \u001b[0;36m<module>\u001b[1;34m\u001b[0m\n\u001b[1;32m----> 1\u001b[1;33m \u001b[0mprint\u001b[0m\u001b[1;33m(\u001b[0m\u001b[0mhello\u001b[0m\u001b[1;33m)\u001b[0m \u001b[1;31m#String Character should be in \"\", any kind of char in \"\" is considered as String\u001b[0m\u001b[1;33m\u001b[0m\u001b[1;33m\u001b[0m\u001b[0m\n\u001b[0m",
      "\u001b[1;31mNameError\u001b[0m: name 'hello' is not defined"
     ]
    }
   ],
   "source": [
    "print(hello) #String Character should be in \"\", any kind of char in \"\" is considered as String"
   ]
  },
  {
   "cell_type": "code",
   "execution_count": 4,
   "id": "21835867",
   "metadata": {},
   "outputs": [
    {
     "name": "stdout",
     "output_type": "stream",
     "text": [
      "10\n"
     ]
    }
   ],
   "source": [
    "print(10) #Int and Float don't need \"\" for printing"
   ]
  },
  {
   "cell_type": "code",
   "execution_count": 5,
   "id": "f112d058",
   "metadata": {},
   "outputs": [
    {
     "name": "stdout",
     "output_type": "stream",
     "text": [
      "10.8\n"
     ]
    }
   ],
   "source": [
    "print(10.8)"
   ]
  },
  {
   "cell_type": "code",
   "execution_count": 6,
   "id": "c031f577",
   "metadata": {},
   "outputs": [
    {
     "data": {
      "text/plain": [
       "str"
      ]
     },
     "execution_count": 6,
     "metadata": {},
     "output_type": "execute_result"
    }
   ],
   "source": [
    "type(\"10\") #anything in \"\" is considered as string "
   ]
  },
  {
   "cell_type": "markdown",
   "id": "1cf3e538",
   "metadata": {},
   "source": [
    "# Variables"
   ]
  },
  {
   "cell_type": "code",
   "execution_count": 7,
   "id": "d2b8e4b0",
   "metadata": {},
   "outputs": [
    {
     "ename": "SyntaxError",
     "evalue": "cannot assign to operator (727541710.py, line 5)",
     "output_type": "error",
     "traceback": [
      "\u001b[1;36m  File \u001b[1;32m\"C:\\Users\\abhin\\AppData\\Local\\Temp\\ipykernel_4872\\727541710.py\"\u001b[1;36m, line \u001b[1;32m5\u001b[0m\n\u001b[1;33m    name@1 = \"sting\"\u001b[0m\n\u001b[1;37m    ^\u001b[0m\n\u001b[1;31mSyntaxError\u001b[0m\u001b[1;31m:\u001b[0m cannot assign to operator\n"
     ]
    }
   ],
   "source": [
    "#Variable name can only have A-Z,a-z,0-9, _ nothing else\n",
    "name = \"Abhinav\" \n",
    "name1 = \"Tannu\"\n",
    "name_1 = \"King\"\n",
    "name@1 = \"sting\" "
   ]
  },
  {
   "cell_type": "code",
   "execution_count": 8,
   "id": "c1d086c7",
   "metadata": {},
   "outputs": [],
   "source": [
    "#Variable should start with A-Z,a-z or _\n",
    "arm_size = 10 \n",
    "Armor = \"metal\"\n",
    "_aim = \"head\""
   ]
  },
  {
   "cell_type": "code",
   "execution_count": 9,
   "id": "141208b2",
   "metadata": {},
   "outputs": [
    {
     "ename": "SyntaxError",
     "evalue": "invalid syntax (1869687426.py, line 2)",
     "output_type": "error",
     "traceback": [
      "\u001b[1;36m  File \u001b[1;32m\"C:\\Users\\abhin\\AppData\\Local\\Temp\\ipykernel_4872\\1869687426.py\"\u001b[1;36m, line \u001b[1;32m2\u001b[0m\n\u001b[1;33m    9name = \"Singh\"\u001b[0m\n\u001b[1;37m     ^\u001b[0m\n\u001b[1;31mSyntaxError\u001b[0m\u001b[1;31m:\u001b[0m invalid syntax\n"
     ]
    }
   ],
   "source": [
    "#variable name can't start with number \n",
    "9name = \"Singh\""
   ]
  },
  {
   "cell_type": "code",
   "execution_count": 10,
   "id": "fd691523",
   "metadata": {},
   "outputs": [
    {
     "ename": "SyntaxError",
     "evalue": "invalid syntax (2268814524.py, line 2)",
     "output_type": "error",
     "traceback": [
      "\u001b[1;36m  File \u001b[1;32m\"C:\\Users\\abhin\\AppData\\Local\\Temp\\ipykernel_4872\\2268814524.py\"\u001b[1;36m, line \u001b[1;32m2\u001b[0m\n\u001b[1;33m    name name = \"Abhi\"\u001b[0m\n\u001b[1;37m         ^\u001b[0m\n\u001b[1;31mSyntaxError\u001b[0m\u001b[1;31m:\u001b[0m invalid syntax\n"
     ]
    }
   ],
   "source": [
    "#Variable name can't have space\n",
    "name name = \"Abhi\""
   ]
  },
  {
   "cell_type": "code",
   "execution_count": 11,
   "id": "143308f4",
   "metadata": {},
   "outputs": [
    {
     "data": {
      "text/plain": [
       "float"
      ]
     },
     "execution_count": 11,
     "metadata": {},
     "output_type": "execute_result"
    }
   ],
   "source": [
    "type(10.9)"
   ]
  },
  {
   "cell_type": "code",
   "execution_count": 12,
   "id": "ada2edc6",
   "metadata": {},
   "outputs": [
    {
     "data": {
      "text/plain": [
       "float"
      ]
     },
     "execution_count": 12,
     "metadata": {},
     "output_type": "execute_result"
    }
   ],
   "source": [
    "x = -10.98\n",
    "type(x)"
   ]
  },
  {
   "cell_type": "markdown",
   "id": "9f65aa0d",
   "metadata": {},
   "source": [
    "# DataTypes"
   ]
  },
  {
   "cell_type": "code",
   "execution_count": 13,
   "id": "0db6e1ec",
   "metadata": {},
   "outputs": [
    {
     "name": "stdout",
     "output_type": "stream",
     "text": [
      "<class 'str'>\n",
      "<class 'str'>\n"
     ]
    }
   ],
   "source": [
    "## String(str) : Any char, num or symbol in \"\" is string\n",
    "name =\"Abhi\"\n",
    "name1 = \"10\"\n",
    "print(type(name))\n",
    "print(type(name1))"
   ]
  },
  {
   "cell_type": "code",
   "execution_count": 14,
   "id": "98b6904c",
   "metadata": {},
   "outputs": [
    {
     "data": {
      "text/plain": [
       "int"
      ]
     },
     "execution_count": 14,
     "metadata": {},
     "output_type": "execute_result"
    }
   ],
   "source": [
    "## Integer(int) : simple number w/o decimals\n",
    "num = 10\n",
    "type(num)"
   ]
  },
  {
   "cell_type": "code",
   "execution_count": 15,
   "id": "6fe98773",
   "metadata": {},
   "outputs": [
    {
     "data": {
      "text/plain": [
       "float"
      ]
     },
     "execution_count": 15,
     "metadata": {},
     "output_type": "execute_result"
    }
   ],
   "source": [
    "## Float(float) : number with decimals\n",
    "num1 = 10.9\n",
    "type(num1)"
   ]
  },
  {
   "cell_type": "code",
   "execution_count": 16,
   "id": "24df0e6d",
   "metadata": {},
   "outputs": [
    {
     "ename": "NameError",
     "evalue": "name 'true' is not defined",
     "output_type": "error",
     "traceback": [
      "\u001b[1;31m---------------------------------------------------------------------------\u001b[0m",
      "\u001b[1;31mNameError\u001b[0m                                 Traceback (most recent call last)",
      "\u001b[1;32m~\\AppData\\Local\\Temp\\ipykernel_4872\\551906044.py\u001b[0m in \u001b[0;36m<module>\u001b[1;34m\u001b[0m\n\u001b[0;32m      2\u001b[0m \u001b[0mcondition\u001b[0m \u001b[1;33m=\u001b[0m \u001b[1;32mTrue\u001b[0m\u001b[1;33m\u001b[0m\u001b[1;33m\u001b[0m\u001b[0m\n\u001b[0;32m      3\u001b[0m \u001b[0mcond\u001b[0m\u001b[1;33m=\u001b[0m \u001b[1;34m\"True\"\u001b[0m\u001b[1;33m\u001b[0m\u001b[1;33m\u001b[0m\u001b[0m\n\u001b[1;32m----> 4\u001b[1;33m \u001b[0mcond1\u001b[0m\u001b[1;33m=\u001b[0m \u001b[0mtrue\u001b[0m\u001b[1;33m\u001b[0m\u001b[1;33m\u001b[0m\u001b[0m\n\u001b[0m\u001b[0;32m      5\u001b[0m \u001b[0mprint\u001b[0m\u001b[1;33m(\u001b[0m\u001b[0mtype\u001b[0m\u001b[1;33m(\u001b[0m\u001b[0mcondition\u001b[0m\u001b[1;33m)\u001b[0m\u001b[1;33m)\u001b[0m\u001b[1;33m\u001b[0m\u001b[1;33m\u001b[0m\u001b[0m\n\u001b[0;32m      6\u001b[0m \u001b[0mprint\u001b[0m\u001b[1;33m(\u001b[0m\u001b[0mtype\u001b[0m\u001b[1;33m(\u001b[0m\u001b[0mcond\u001b[0m\u001b[1;33m)\u001b[0m\u001b[1;33m)\u001b[0m\u001b[1;33m\u001b[0m\u001b[1;33m\u001b[0m\u001b[0m\n",
      "\u001b[1;31mNameError\u001b[0m: name 'true' is not defined"
     ]
    }
   ],
   "source": [
    "## Boolean(bool) : True/False [as it is cause Py is case sensitive]\n",
    "condition = True\n",
    "cond= \"True\"\n",
    "cond1= true\n",
    "print(type(condition))\n",
    "print(type(cond))\n",
    "print(type(cond1))"
   ]
  },
  {
   "cell_type": "code",
   "execution_count": 17,
   "id": "1432dfd0",
   "metadata": {},
   "outputs": [
    {
     "name": "stdout",
     "output_type": "stream",
     "text": [
      "Abhinav\n",
      "<class 'str'>\n",
      "18\n",
      "<class 'int'>\n"
     ]
    }
   ],
   "source": [
    "## Print your name \n",
    "## Print your name's DataType\n",
    "## Print your age \n",
    "## Print your age's DataType\n",
    "name = \"Abhinav\"\n",
    "print(name)\n",
    "print(type(name))\n",
    "age = 18\n",
    "print(age)\n",
    "print(type(age))"
   ]
  },
  {
   "cell_type": "code",
   "execution_count": null,
   "id": "0718a42a",
   "metadata": {},
   "outputs": [],
   "source": []
  },
  {
   "cell_type": "code",
   "execution_count": null,
   "id": "d34c7eab",
   "metadata": {},
   "outputs": [],
   "source": []
  }
 ],
 "metadata": {
  "kernelspec": {
   "display_name": "Python 3 (ipykernel)",
   "language": "python",
   "name": "python3"
  },
  "language_info": {
   "codemirror_mode": {
    "name": "ipython",
    "version": 3
   },
   "file_extension": ".py",
   "mimetype": "text/x-python",
   "name": "python",
   "nbconvert_exporter": "python",
   "pygments_lexer": "ipython3",
   "version": "3.9.13"
  }
 },
 "nbformat": 4,
 "nbformat_minor": 5
}

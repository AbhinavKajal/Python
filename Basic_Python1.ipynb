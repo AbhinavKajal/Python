{
 "cells": [
  {
   "cell_type": "markdown",
   "id": "bed2f6b7",
   "metadata": {},
   "source": [
    "# Data Structures:-"
   ]
  },
  {
   "cell_type": "markdown",
   "id": "ab4c99f8",
   "metadata": {},
   "source": [
    "### List :"
   ]
  },
  {
   "cell_type": "code",
   "execution_count": 13,
   "id": "ae294cea",
   "metadata": {},
   "outputs": [
    {
     "data": {
      "text/plain": [
       "(1, 89, 'hlo', 79.98, 23)"
      ]
     },
     "execution_count": 13,
     "metadata": {},
     "output_type": "execute_result"
    }
   ],
   "source": [
    "\n",
    "''' \n",
    "<*>List :-- Data stored in [] separated by ,\n",
    "<*>Heterogeneous in nature(can store variable of different DataTypes)\n",
    "<*>List item can be retrieved using index (index in list start with number 0 first element is considered as 0 element)\n",
    "<*>List is mutable that is item in it can be changed even after its created\n",
    "'''\n",
    "sample_list = [1,89,\"hlo\",79.98,23]\n",
    "sample_list"
   ]
  },
  {
   "cell_type": "code",
   "execution_count": 14,
   "id": "fd26f44e",
   "metadata": {},
   "outputs": [
    {
     "data": {
      "text/plain": [
       "tuple"
      ]
     },
     "execution_count": 14,
     "metadata": {},
     "output_type": "execute_result"
    }
   ],
   "source": [
    "type(sample_list)"
   ]
  },
  {
   "cell_type": "code",
   "execution_count": 4,
   "id": "12aeb375",
   "metadata": {},
   "outputs": [
    {
     "data": {
      "text/plain": [
       "1"
      ]
     },
     "execution_count": 4,
     "metadata": {},
     "output_type": "execute_result"
    }
   ],
   "source": [
    "sample_list[0] #start from zero first element"
   ]
  },
  {
   "cell_type": "code",
   "execution_count": 5,
   "id": "8235a304",
   "metadata": {},
   "outputs": [
    {
     "ename": "IndexError",
     "evalue": "list index out of range",
     "output_type": "error",
     "traceback": [
      "\u001b[1;31m---------------------------------------------------------------------------\u001b[0m",
      "\u001b[1;31mIndexError\u001b[0m                                Traceback (most recent call last)",
      "\u001b[1;32m~\\AppData\\Local\\Temp\\ipykernel_18372\\3745749751.py\u001b[0m in \u001b[0;36m<module>\u001b[1;34m\u001b[0m\n\u001b[1;32m----> 1\u001b[1;33m \u001b[0msample_list\u001b[0m\u001b[1;33m[\u001b[0m\u001b[1;36m5\u001b[0m\u001b[1;33m]\u001b[0m\u001b[1;33m\u001b[0m\u001b[1;33m\u001b[0m\u001b[0m\n\u001b[0m",
      "\u001b[1;31mIndexError\u001b[0m: list index out of range"
     ]
    }
   ],
   "source": [
    "sample_list[5] #if exceeds index number shows error"
   ]
  },
  {
   "cell_type": "code",
   "execution_count": 8,
   "id": "998604d8",
   "metadata": {},
   "outputs": [
    {
     "data": {
      "text/plain": [
       "23"
      ]
     },
     "execution_count": 8,
     "metadata": {},
     "output_type": "execute_result"
    }
   ],
   "source": [
    "sample_list[-1] #start from end of list"
   ]
  },
  {
   "cell_type": "code",
   "execution_count": 9,
   "id": "8d0b51be",
   "metadata": {},
   "outputs": [],
   "source": [
    "sample_list[0]= 100 # element replaced at given position by new element"
   ]
  },
  {
   "cell_type": "code",
   "execution_count": 12,
   "id": "71f6393c",
   "metadata": {},
   "outputs": [
    {
     "data": {
      "text/plain": [
       "[100, 89, 'hlo', 79.98, 23]"
      ]
     },
     "execution_count": 12,
     "metadata": {},
     "output_type": "execute_result"
    }
   ],
   "source": [
    "sample_list"
   ]
  },
  {
   "cell_type": "markdown",
   "id": "932cc9ab",
   "metadata": {},
   "source": [
    "### Tuple :"
   ]
  },
  {
   "cell_type": "code",
   "execution_count": 16,
   "id": "01cc6829",
   "metadata": {},
   "outputs": [
    {
     "name": "stdout",
     "output_type": "stream",
     "text": [
      "(98, 0, 'hii', 87)\n"
     ]
    },
    {
     "data": {
      "text/plain": [
       "tuple"
      ]
     },
     "execution_count": 16,
     "metadata": {},
     "output_type": "execute_result"
    }
   ],
   "source": [
    "''' \n",
    "<*>Tuple :-- Data stored in () separated by , \n",
    "<*>Heterogeneous in nature(can store variable of different DataTypes)\n",
    "<*>Tuple item can be retrieved using index (index in Tuple start with number 0 first element is considered as 0 element)\n",
    "<*>Tuple is not mutable\n",
    "'''\n",
    "sample_tuple = (98,0,\"hii\",87)\n",
    "print(sample_tuple)\n",
    "type(sample_tuple)"
   ]
  },
  {
   "cell_type": "code",
   "execution_count": 20,
   "id": "28c82385",
   "metadata": {},
   "outputs": [
    {
     "name": "stdout",
     "output_type": "stream",
     "text": [
      "<class 'tuple'>\n",
      "(98, 0, 'hii', 87)\n"
     ]
    }
   ],
   "source": [
    "sample_tuple = 98,0,\"hii\",87 #even if store w/o () but separated by , its considered as Tuple\n",
    "print(type(sample_tuple))\n",
    "print(sample_tuple)"
   ]
  },
  {
   "cell_type": "code",
   "execution_count": 22,
   "id": "9fb3fdc9",
   "metadata": {},
   "outputs": [
    {
     "data": {
      "text/plain": [
       "98"
      ]
     },
     "execution_count": 22,
     "metadata": {},
     "output_type": "execute_result"
    }
   ],
   "source": [
    "sample_tuple[0]"
   ]
  },
  {
   "cell_type": "code",
   "execution_count": 24,
   "id": "21f8a5c7",
   "metadata": {},
   "outputs": [
    {
     "ename": "IndexError",
     "evalue": "tuple index out of range",
     "output_type": "error",
     "traceback": [
      "\u001b[1;31m---------------------------------------------------------------------------\u001b[0m",
      "\u001b[1;31mIndexError\u001b[0m                                Traceback (most recent call last)",
      "\u001b[1;32m~\\AppData\\Local\\Temp\\ipykernel_18372\\1356583626.py\u001b[0m in \u001b[0;36m<module>\u001b[1;34m\u001b[0m\n\u001b[1;32m----> 1\u001b[1;33m \u001b[0msample_tuple\u001b[0m\u001b[1;33m[\u001b[0m\u001b[1;36m5\u001b[0m\u001b[1;33m]\u001b[0m\u001b[1;33m\u001b[0m\u001b[1;33m\u001b[0m\u001b[0m\n\u001b[0m",
      "\u001b[1;31mIndexError\u001b[0m: tuple index out of range"
     ]
    }
   ],
   "source": [
    "sample_tuple[5]"
   ]
  },
  {
   "cell_type": "code",
   "execution_count": 26,
   "id": "b783ae8c",
   "metadata": {},
   "outputs": [
    {
     "data": {
      "text/plain": [
       "87"
      ]
     },
     "execution_count": 26,
     "metadata": {},
     "output_type": "execute_result"
    }
   ],
   "source": [
    "sample_tuple[-1]"
   ]
  },
  {
   "cell_type": "code",
   "execution_count": 27,
   "id": "2331efb7",
   "metadata": {},
   "outputs": [
    {
     "ename": "TypeError",
     "evalue": "'tuple' object does not support item assignment",
     "output_type": "error",
     "traceback": [
      "\u001b[1;31m---------------------------------------------------------------------------\u001b[0m",
      "\u001b[1;31mTypeError\u001b[0m                                 Traceback (most recent call last)",
      "\u001b[1;32m~\\AppData\\Local\\Temp\\ipykernel_18372\\2213982776.py\u001b[0m in \u001b[0;36m<module>\u001b[1;34m\u001b[0m\n\u001b[1;32m----> 1\u001b[1;33m \u001b[0msample_tuple\u001b[0m\u001b[1;33m[\u001b[0m\u001b[1;36m0\u001b[0m\u001b[1;33m]\u001b[0m \u001b[1;33m=\u001b[0m \u001b[1;36m199\u001b[0m\u001b[1;33m\u001b[0m\u001b[1;33m\u001b[0m\u001b[0m\n\u001b[0m",
      "\u001b[1;31mTypeError\u001b[0m: 'tuple' object does not support item assignment"
     ]
    }
   ],
   "source": [
    "sample_tuple[0] = 199 ## tuple is immutable"
   ]
  },
  {
   "cell_type": "markdown",
   "id": "de962b82",
   "metadata": {},
   "source": [
    " ### Set :"
   ]
  },
  {
   "cell_type": "code",
   "execution_count": 33,
   "id": "eb1e19ac",
   "metadata": {},
   "outputs": [
    {
     "data": {
      "text/plain": [
       "{0, 1, 111, 12, 23, 55, 6, 99, 'hello', 'hii'}"
      ]
     },
     "execution_count": 33,
     "metadata": {},
     "output_type": "execute_result"
    }
   ],
   "source": [
    "''' \n",
    "<*>Set :-- Data stored in {} separated by , \n",
    "<*>Heterogeneous in nature(can store variable of different DataTypes)\n",
    "<*>Set item can't be retrieved using index (index in list start with number 0 first element is considered as 0 element)\n",
    "<*>Set is mutable but not using indexing\n",
    "'''\n",
    "sample_set = {0,1,1,99,111,\"hii\",\"hello\",99,55,6,23,12,\"hii\"} ## it is similar to mathematical set one element can't repeat\n",
    "sample_set"
   ]
  },
  {
   "cell_type": "code",
   "execution_count": 35,
   "id": "125de391",
   "metadata": {},
   "outputs": [
    {
     "ename": "TypeError",
     "evalue": "'set' object is not subscriptable",
     "output_type": "error",
     "traceback": [
      "\u001b[1;31m---------------------------------------------------------------------------\u001b[0m",
      "\u001b[1;31mTypeError\u001b[0m                                 Traceback (most recent call last)",
      "\u001b[1;32m~\\AppData\\Local\\Temp\\ipykernel_18372\\3427908440.py\u001b[0m in \u001b[0;36m<module>\u001b[1;34m\u001b[0m\n\u001b[1;32m----> 1\u001b[1;33m \u001b[0msample_set\u001b[0m\u001b[1;33m[\u001b[0m\u001b[1;36m0\u001b[0m\u001b[1;33m]\u001b[0m\u001b[1;33m\u001b[0m\u001b[1;33m\u001b[0m\u001b[0m\n\u001b[0m",
      "\u001b[1;31mTypeError\u001b[0m: 'set' object is not subscriptable"
     ]
    }
   ],
   "source": [
    "sample_set[0] ## can't retrieve element using index number as item are arranged randomly"
   ]
  },
  {
   "cell_type": "code",
   "execution_count": 36,
   "id": "d2a8ce5f",
   "metadata": {},
   "outputs": [
    {
     "ename": "TypeError",
     "evalue": "'set' object does not support item assignment",
     "output_type": "error",
     "traceback": [
      "\u001b[1;31m---------------------------------------------------------------------------\u001b[0m",
      "\u001b[1;31mTypeError\u001b[0m                                 Traceback (most recent call last)",
      "\u001b[1;32m~\\AppData\\Local\\Temp\\ipykernel_18372\\3118087944.py\u001b[0m in \u001b[0;36m<module>\u001b[1;34m\u001b[0m\n\u001b[1;32m----> 1\u001b[1;33m \u001b[0msample_set\u001b[0m\u001b[1;33m[\u001b[0m\u001b[1;36m0\u001b[0m\u001b[1;33m]\u001b[0m\u001b[1;33m=\u001b[0m \u001b[1;36m100\u001b[0m\u001b[1;33m\u001b[0m\u001b[1;33m\u001b[0m\u001b[0m\n\u001b[0m",
      "\u001b[1;31mTypeError\u001b[0m: 'set' object does not support item assignment"
     ]
    }
   ],
   "source": [
    "sample_set[0]= 100 ## can't mutate using index number as item are not arranged in similar way as input in output"
   ]
  },
  {
   "cell_type": "code",
   "execution_count": 38,
   "id": "002791a5",
   "metadata": {},
   "outputs": [
    {
     "data": {
      "text/plain": [
       "{0, 1, 10001, 111, 12, 23, 55, 6, 99, 'hello', 'hii'}"
      ]
     },
     "execution_count": 38,
     "metadata": {},
     "output_type": "execute_result"
    }
   ],
   "source": [
    "sample_set.add(10001) ## set can be mutated using add and remove function\n",
    "sample_set"
   ]
  },
  {
   "cell_type": "code",
   "execution_count": 39,
   "id": "7554e946",
   "metadata": {},
   "outputs": [
    {
     "data": {
      "text/plain": [
       "{0, 1, 10001, 111, 12, 23, 55, 6, 99, 'hello'}"
      ]
     },
     "execution_count": 39,
     "metadata": {},
     "output_type": "execute_result"
    }
   ],
   "source": [
    "sample_set.remove(\"hii\")\n",
    "sample_set"
   ]
  },
  {
   "cell_type": "markdown",
   "id": "d84d0a05",
   "metadata": {},
   "source": [
    "### Dictionary :"
   ]
  },
  {
   "cell_type": "code",
   "execution_count": 48,
   "id": "bc3afd5c",
   "metadata": {},
   "outputs": [
    {
     "data": {
      "text/plain": [
       "{1: 'Abhi', 2: 56, 3: 'king', 4: 89.07, 90: 89.07}"
      ]
     },
     "execution_count": 48,
     "metadata": {},
     "output_type": "execute_result"
    }
   ],
   "source": [
    "''' \n",
    "<*>Dictionay :-- Data stored in {key1:value1} separated by , \n",
    "<*>Heterogeneous in nature(can store variable of different DataTypes)\n",
    "<*>Dictionary item can be retrieved using key \n",
    "<*>Dictionary is mutable \n",
    "'''\n",
    "sample_dict = {1: \"Abhi\", 2: 56, 3:\"king\", 4: 89.07, 5: 89.07} ## Value can be duplicatd but Key are unique\n",
    "sample_dict"
   ]
  },
  {
   "cell_type": "code",
   "execution_count": 44,
   "id": "dfafa547",
   "metadata": {},
   "outputs": [
    {
     "data": {
      "text/plain": [
       "'Abhi'"
      ]
     },
     "execution_count": 44,
     "metadata": {},
     "output_type": "execute_result"
    }
   ],
   "source": [
    "sample_dict[1] ## Value can be retrieved using Key"
   ]
  },
  {
   "cell_type": "code",
   "execution_count": 46,
   "id": "4354a748",
   "metadata": {},
   "outputs": [
    {
     "ename": "KeyError",
     "evalue": "'Abhi'",
     "output_type": "error",
     "traceback": [
      "\u001b[1;31m---------------------------------------------------------------------------\u001b[0m",
      "\u001b[1;31mKeyError\u001b[0m                                  Traceback (most recent call last)",
      "\u001b[1;32m~\\AppData\\Local\\Temp\\ipykernel_18372\\622294935.py\u001b[0m in \u001b[0;36m<module>\u001b[1;34m\u001b[0m\n\u001b[1;32m----> 1\u001b[1;33m \u001b[0msample_dict\u001b[0m\u001b[1;33m[\u001b[0m\u001b[1;34m\"Abhi\"\u001b[0m\u001b[1;33m]\u001b[0m \u001b[1;31m## Key can't be retrieved using Value\u001b[0m\u001b[1;33m\u001b[0m\u001b[1;33m\u001b[0m\u001b[0m\n\u001b[0m",
      "\u001b[1;31mKeyError\u001b[0m: 'Abhi'"
     ]
    }
   ],
   "source": [
    "sample_dict[\"Abhi\"] ## Key can't be retrieved using Value"
   ]
  },
  {
   "cell_type": "code",
   "execution_count": 49,
   "id": "908139d7",
   "metadata": {},
   "outputs": [
    {
     "data": {
      "text/plain": [
       "{1: 'Abhi', 2: 56, 3: 'king', 4: 89.07, 90: 89.07, 5: 'suiiiiiiiii'}"
      ]
     },
     "execution_count": 49,
     "metadata": {},
     "output_type": "execute_result"
    }
   ],
   "source": [
    "sample_dict[5]=\"suiiiiiiiii\"\n",
    "sample_dict"
   ]
  },
  {
   "cell_type": "code",
   "execution_count": 51,
   "id": "3103e36a",
   "metadata": {},
   "outputs": [
    {
     "data": {
      "text/plain": [
       "{1: 'Abhi', 2: 56, 3: 'king', 4: 89.07, 90: 89.07, 5: 'suiiiiiiiii', 1001: 98}"
      ]
     },
     "execution_count": 51,
     "metadata": {},
     "output_type": "execute_result"
    }
   ],
   "source": [
    "sample_dict[1001] = 98 ## new key:pair value can also be added\n",
    "sample_dict"
   ]
  },
  {
   "cell_type": "code",
   "execution_count": null,
   "id": "8b4a35f5",
   "metadata": {},
   "outputs": [],
   "source": []
  }
 ],
 "metadata": {
  "kernelspec": {
   "display_name": "Python 3 (ipykernel)",
   "language": "python",
   "name": "python3"
  },
  "language_info": {
   "codemirror_mode": {
    "name": "ipython",
    "version": 3
   },
   "file_extension": ".py",
   "mimetype": "text/x-python",
   "name": "python",
   "nbconvert_exporter": "python",
   "pygments_lexer": "ipython3",
   "version": "3.9.13"
  }
 },
 "nbformat": 4,
 "nbformat_minor": 5
}
